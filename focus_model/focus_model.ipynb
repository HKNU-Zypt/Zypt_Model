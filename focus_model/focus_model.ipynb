{
 "cells": [
  {
   "cell_type": "markdown",
   "id": "90a1aba6",
   "metadata": {
    "vscode": {
     "languageId": "plaintext"
    }
   },
   "source": [
    "# 캡스톤 디자인\n",
    "\n",
    "## 개요\n",
    "만들어야 할 모델 : Focus Model(집중도 분석 모델).  \n",
    "라벨 : 집중, 집중하지 않음, 졸음 (3가지).  \n",
    "프레임워크 : Pytorch(나중에는 ONNX->TFLite로 변경해줘야 Flutter에서 사용할 수 있다.)\n"
   ]
  },
  {
   "cell_type": "markdown",
   "id": "3da0a5a8",
   "metadata": {},
   "source": [
    "## 사용할 모델\n",
    "mobileNetV3 : https://huggingface.co/timm/mobilenetv3_small_100.lamb_in1k\n",
    "\n",
    "## Model Details\n",
    "- Model Type: Image classification / feature backbone\n",
    "- Model Stats:\n",
    "    - Params (M): 2.5\n",
    "    - GMACs: 0.1\n",
    "    - Activations (M): 1.4\n",
    "    - Image size: 224 x 224\n",
    "- Papers:\n",
    "    - Searching for MobileNetV3: https://arxiv.org/abs/1905.02244\n",
    "- Dataset: ImageNet-1k\n",
    "- Original: https://github.com/huggingface/pytorch-image-models\n",
    "[출처]:https://huggingface.co/timm/mobilenetv3_small_100.lamb_in1k\n",
    "\n",
    "## 사용할 학습 데이터   \n",
    "AI-Hub : https://aihub.or.kr/aihubdata/data/view.do?currMenu=115&topMenu=100&aihubDataSe=data&dataSetSn=71715\n",
    "- 학습 데이터\n",
    "    - focused(집중): \n",
    "    - not focused(집중하지 않음): \n",
    "    - drowsy(졸음): \n",
    "    - 총 개\n",
    "\n",
    "- 평가 데이터\n",
    "    - focused(집중): \n",
    "    - not focused(집중하지 않음): \n",
    "    - drowsy(졸음): \n",
    "    - 총 개\n",
    "\n",
    "## 추가 데이터 세트\n",
    "(필요 없을거 같다..)   \n",
    "UTA-RLDD : <https://sites.google.com/view/utarldd/home>   \n",
    "우리의 주제와 비슷한 맥락의 연구에서 사용된 데이터셋 -> 동영상 데이터만 존재, 라벨 데이터가 없음\n",
    "\n",
    "## 사용한 라이브러리\n",
    "- pandas: pip install pandas\n",
    "- matplotlib: pip install matplotlib\n",
    "- opencv-python: pip install opencv-python\n",
    "- timm: pip install timm\n",
    "- tqdm: pip install tqdm\n",
    "- pytorch: https://pytorch.kr/get-started/locally/\n",
    "- scikit-learn: pip install scikit-learn\n",
    "- albumentations: pip install albumentations\n",
    "- torchmetrics: pip install torchmetrics"
   ]
  },
  {
   "cell_type": "markdown",
   "id": "fa0bd093",
   "metadata": {},
   "source": [
    "## 참고 자료\n",
    "https://www.nature.com/articles/s41598-024-79146-z\n"
   ]
  },
  {
   "cell_type": "markdown",
   "id": "4c8a8f6b",
   "metadata": {},
   "source": [
    "## 코드에서 바꿔야할 사항\n",
    "- 데이터 경로 설정\n",
    "- 모델 체크포인트 경로"
   ]
  },
  {
   "cell_type": "markdown",
   "id": "4e9b4c1f-8437-4d37-af41-caa15f9427be",
   "metadata": {},
   "source": [
    "<hr/>"
   ]
  },
  {
   "cell_type": "markdown",
   "id": "08664070",
   "metadata": {},
   "source": [
    "## 데이터 불러오기"
   ]
  },
  {
   "cell_type": "code",
   "execution_count": null,
   "id": "f7f71e39",
   "metadata": {
    "execution": {
     "iopub.execute_input": "2025-06-24T04:01:27.087881Z",
     "iopub.status.busy": "2025-06-24T04:01:27.087723Z",
     "iopub.status.idle": "2025-06-24T04:01:29.307961Z",
     "shell.execute_reply": "2025-06-24T04:01:29.307259Z",
     "shell.execute_reply.started": "2025-06-24T04:01:27.087866Z"
    },
    "trusted": true
   },
   "outputs": [
    {
     "data": {
      "text/html": [
       "<div>\n",
       "<style scoped>\n",
       "    .dataframe tbody tr th:only-of-type {\n",
       "        vertical-align: middle;\n",
       "    }\n",
       "\n",
       "    .dataframe tbody tr th {\n",
       "        vertical-align: top;\n",
       "    }\n",
       "\n",
       "    .dataframe thead th {\n",
       "        text-align: right;\n",
       "    }\n",
       "</style>\n",
       "<table border=\"1\" class=\"dataframe\">\n",
       "  <thead>\n",
       "    <tr style=\"text-align: right;\">\n",
       "      <th></th>\n",
       "      <th>path</th>\n",
       "      <th>label</th>\n",
       "      <th>target</th>\n",
       "    </tr>\n",
       "  </thead>\n",
       "  <tbody>\n",
       "    <tr>\n",
       "      <th>0</th>\n",
       "      <td>/users/kimjohyeon/Desktop/Capstone/cropped_fac...</td>\n",
       "      <td>focused</td>\n",
       "      <td>0</td>\n",
       "    </tr>\n",
       "    <tr>\n",
       "      <th>1</th>\n",
       "      <td>/users/kimjohyeon/Desktop/Capstone/cropped_fac...</td>\n",
       "      <td>focused</td>\n",
       "      <td>0</td>\n",
       "    </tr>\n",
       "    <tr>\n",
       "      <th>2</th>\n",
       "      <td>/users/kimjohyeon/Desktop/Capstone/cropped_fac...</td>\n",
       "      <td>focused</td>\n",
       "      <td>0</td>\n",
       "    </tr>\n",
       "    <tr>\n",
       "      <th>3</th>\n",
       "      <td>/users/kimjohyeon/Desktop/Capstone/cropped_fac...</td>\n",
       "      <td>focused</td>\n",
       "      <td>0</td>\n",
       "    </tr>\n",
       "    <tr>\n",
       "      <th>4</th>\n",
       "      <td>/users/kimjohyeon/Desktop/Capstone/cropped_fac...</td>\n",
       "      <td>focused</td>\n",
       "      <td>0</td>\n",
       "    </tr>\n",
       "  </tbody>\n",
       "</table>\n",
       "</div>"
      ],
      "text/plain": [
       "                                                path    label  target\n",
       "0  /users/kimjohyeon/Desktop/Capstone/cropped_fac...  focused       0\n",
       "1  /users/kimjohyeon/Desktop/Capstone/cropped_fac...  focused       0\n",
       "2  /users/kimjohyeon/Desktop/Capstone/cropped_fac...  focused       0\n",
       "3  /users/kimjohyeon/Desktop/Capstone/cropped_fac...  focused       0\n",
       "4  /users/kimjohyeon/Desktop/Capstone/cropped_fac...  focused       0"
      ]
     },
     "execution_count": 1,
     "metadata": {},
     "output_type": "execute_result"
    }
   ],
   "source": [
    "import os\n",
    "import pandas as pd\n",
    "\n",
    "data_path = \"/users/kimjohyeon/Desktop/Capstone/cropped_faces\" # 데이터 경로 작성하면 됨.\n",
    "paths= []\n",
    "labels = []\n",
    "\n",
    "for path, _, filenames in os.walk(data_path):\n",
    "    for filename in filenames:\n",
    "        if '.jpg' in filename:\n",
    "            file_path = path + '/' + filename\n",
    "            paths.append(file_path)\n",
    "\n",
    "            if '/drowsy' in file_path:\n",
    "                labels.append(\"drowsy\")\n",
    "            elif '/focused' in file_path:\n",
    "                labels.append('focused')\n",
    "            elif '/not_focused' in file_path:\n",
    "                labels.append('not_focused')\n",
    "            else:\n",
    "                labels.append('N/A')\n",
    "\n",
    "data_df = pd.DataFrame({\"path\":paths, \"label\":labels})\n",
    "label_mapping = {\"focused\":0, \"not_focused\":1, \"drowsy\":2}\n",
    "\n",
    "data_df[\"target\"] = data_df[\"label\"].map(label_mapping)\n",
    "data_df.head()\n"
   ]
  },
  {
   "cell_type": "code",
   "execution_count": 9,
   "id": "6d7cdd2d",
   "metadata": {
    "execution": {
     "iopub.execute_input": "2025-06-24T04:01:31.996105Z",
     "iopub.status.busy": "2025-06-24T04:01:31.995566Z",
     "iopub.status.idle": "2025-06-24T04:01:32.370799Z",
     "shell.execute_reply": "2025-06-24T04:01:32.370215Z",
     "shell.execute_reply.started": "2025-06-24T04:01:31.996080Z"
    },
    "trusted": true
   },
   "outputs": [
    {
     "data": {
      "text/plain": [
       "(252, 252, 3)"
      ]
     },
     "execution_count": 9,
     "metadata": {},
     "output_type": "execute_result"
    }
   ],
   "source": [
    "# 이미지 경로가 제대로 설정되었는지 확인\n",
    "import cv2\n",
    "\n",
    "image = cv2.imread(data_df[\"path\"][0])\n",
    "image.shape"
   ]
  },
  {
   "cell_type": "code",
   "execution_count": 11,
   "id": "4e0b8eeb",
   "metadata": {},
   "outputs": [
    {
     "data": {
      "image/png": "[encoded data removed]",
      "text/plain": [
       "<Figure size 640x480 with 1 Axes>"
      ]
     },
     "metadata": {},
     "output_type": "display_data"
    }
   ],
   "source": [
    "import matplotlib.pyplot as plt\n",
    "\n",
    "rgb_image = cv2.cvtColor(image, cv2.COLOR_BGR2RGB)\n",
    "plt.imshow(rgb_image)\n",
    "plt.title(data_df[\"label\"][0])\n",
    "plt.axis(False)\n",
    "plt.show()"
   ]
  },
  {
   "cell_type": "code",
   "execution_count": null,
   "id": "85a1e8a8",
   "metadata": {
    "execution": {
     "iopub.execute_input": "2025-06-24T04:01:33.360159Z",
     "iopub.status.busy": "2025-06-24T04:01:33.359471Z",
     "iopub.status.idle": "2025-06-24T04:01:33.368924Z",
     "shell.execute_reply": "2025-06-24T04:01:33.368385Z",
     "shell.execute_reply.started": "2025-06-24T04:01:33.360138Z"
    },
    "trusted": true
   },
   "outputs": [
    {
     "name": "stdout",
     "output_type": "stream",
     "text": [
      "Focused: 455\n",
      "Not Focused: 417\n",
      "Drowsy: 206\n",
      "\n",
      "Total: 1078\n"
     ]
    }
   ],
   "source": [
    "# 데이터 개수 확인\n",
    "focus_count = data_df[data_df[\"label\"]==\"focused\"][\"label\"].count()\n",
    "not_focus_count = data_df[data_df[\"label\"]==\"not_focused\"][\"label\"].count()\n",
    "drowsy_count = data_df[data_df[\"label\"]==\"drowsy\"][\"label\"].count()\n",
    "total_count = data_df[\"label\"].count() if (focus_count + not_focus_count + drowsy_count) == data_df[\"label\"].count() else \"error\"\n",
    "\n",
    "# 개수가 맞으면 total이 총합으로 나올 것이고, error가 출력된다면 결측값이 있다는 것이다.\n",
    "print(f\"Focused: {focus_count}\\nNot Focused: {not_focus_count}\\nDrowsy: {drowsy_count}\\n\\nTotal: {total_count}\")"
   ]
  },
  {
   "cell_type": "code",
   "execution_count": 13,
   "id": "aba2f682",
   "metadata": {
    "execution": {
     "iopub.execute_input": "2025-06-24T04:02:10.509589Z",
     "iopub.status.busy": "2025-06-24T04:02:10.509163Z",
     "iopub.status.idle": "2025-06-24T04:02:10.520942Z",
     "shell.execute_reply": "2025-06-24T04:02:10.520294Z",
     "shell.execute_reply.started": "2025-06-24T04:02:10.509566Z"
    },
    "trusted": true
   },
   "outputs": [
    {
     "data": {
      "text/plain": [
       "((970, 3), (824, 3), (146, 3), (108, 3))"
      ]
     },
     "execution_count": 13,
     "metadata": {},
     "output_type": "execute_result"
    }
   ],
   "source": [
    "from sklearn.model_selection import train_test_split\n",
    "train_df, test_df = train_test_split(data_df, test_size=0.1, stratify=data_df[\"target\"], random_state=2025)\n",
    "tr_df, val_df = train_test_split(train_df, test_size=0.15, stratify=train_df[\"target\"], random_state=2025)\n",
    "\n",
    "train_df.shape, tr_df.shape, val_df.shape, test_df.shape"
   ]
  },
  {
   "cell_type": "markdown",
   "id": "7eb451bf",
   "metadata": {},
   "source": [
    "## Dataset, DataLoader 생성"
   ]
  },
  {
   "cell_type": "code",
   "execution_count": 14,
   "id": "5928faaa",
   "metadata": {
    "execution": {
     "iopub.execute_input": "2025-06-24T04:02:14.005694Z",
     "iopub.status.busy": "2025-06-24T04:02:14.005406Z",
     "iopub.status.idle": "2025-06-24T04:02:18.301263Z",
     "shell.execute_reply": "2025-06-24T04:02:18.300501Z",
     "shell.execute_reply.started": "2025-06-24T04:02:14.005673Z"
    },
    "trusted": true
   },
   "outputs": [],
   "source": [
    "# 데이터셋 만드는 클래스\n",
    "import torch\n",
    "import torch.nn as nn\n",
    "import cv2\n",
    "import numpy as np\n",
    "\n",
    "class FocusDataset(nn.Module):\n",
    "    def __init__(self, image_paths, targets=None, transform=None):\n",
    "        self.image_paths = image_paths\n",
    "        self.targets = targets\n",
    "        self.transform = transform\n",
    "\n",
    "    def __len__(self):\n",
    "        return len(self.image_paths)\n",
    "    \n",
    "    def __getitem__(self, idx):\n",
    "        image_path = self.image_paths[idx]\n",
    "        image_np = cv2.cvtColor(cv2.imread(image_path), cv2.COLOR_BGR2RGB).astype(np.float32)\n",
    "        image = self.transform(image=image_np)[\"image\"]\n",
    "\n",
    "        if self.targets is not None:\n",
    "            target = torch.tensor(self.targets[idx])\n",
    "\n",
    "            return image, target\n",
    "        \n",
    "        return image"
   ]
  },
  {
   "cell_type": "code",
   "execution_count": 17,
   "id": "b0713d1f",
   "metadata": {
    "execution": {
     "iopub.execute_input": "2025-06-24T04:02:20.244825Z",
     "iopub.status.busy": "2025-06-24T04:02:20.244411Z",
     "iopub.status.idle": "2025-06-24T04:02:21.580908Z",
     "shell.execute_reply": "2025-06-24T04:02:21.580115Z",
     "shell.execute_reply.started": "2025-06-24T04:02:20.244787Z"
    },
    "trusted": true
   },
   "outputs": [],
   "source": [
    "import albumentations as A\n",
    "from albumentations import ToTensorV2\n",
    "from torch.utils.data import DataLoader\n",
    "\n",
    "IMG_SIZE = 224\n",
    "IMG_MEANS = [0.485, 0.456, 0.406]\n",
    "IMG_STD = [0.229, 0.224, 0.225]\n",
    "BATCH_SIZE = 16\n",
    "\n",
    "tr_transform = A.Compose([\n",
    "    A.Resize(IMG_SIZE, IMG_SIZE, p=1),\n",
    "    A.HorizontalFlip(p=0.5),\n",
    "    A.Normalize(mean=IMG_MEANS, std=IMG_STD),\n",
    "    ToTensorV2()\n",
    "])\n",
    "\n",
    "val_transform = A.Compose([\n",
    "    A.Resize(IMG_SIZE, IMG_SIZE),\n",
    "    A.Normalize(mean=IMG_MEANS, std=IMG_STD),\n",
    "    ToTensorV2()\n",
    "])\n",
    "\n",
    "def create_tr_val_loader(tr_df, val_df, tr_transform, val_transform):\n",
    "    tr_dataset = FocusDataset(image_paths=tr_df[\"path\"].to_list(), targets=tr_df[\"target\"].to_list(), transform=tr_transform)\n",
    "    tr_loader = DataLoader(tr_dataset, batch_size=BATCH_SIZE, shuffle=True, num_workers=0, pin_memory=False)\n",
    "    if val_df is not None:\n",
    "        val_dataset = FocusDataset(image_paths=val_df[\"path\"].to_list(), targets=val_df[\"target\"].to_list(), transform=val_transform)\n",
    "        val_loader = DataLoader(val_dataset, batch_size=BATCH_SIZE, shuffle=False, num_workers=0, pin_memory=False)\n",
    "\n",
    "        return tr_loader, val_loader\n",
    "    \n",
    "    return tr_loader, None\n",
    "\n",
    "tr_loader, val_loader = create_tr_val_loader(tr_df, val_df, tr_transform, val_transform)\n"
   ]
  },
  {
   "cell_type": "code",
   "execution_count": 18,
   "id": "20af5c49",
   "metadata": {
    "execution": {
     "iopub.execute_input": "2025-06-24T04:02:24.118355Z",
     "iopub.status.busy": "2025-06-24T04:02:24.118065Z",
     "iopub.status.idle": "2025-06-24T04:02:25.407310Z",
     "shell.execute_reply": "2025-06-24T04:02:25.406598Z",
     "shell.execute_reply.started": "2025-06-24T04:02:24.118315Z"
    },
    "trusted": true
   },
   "outputs": [
    {
     "name": "stdout",
     "output_type": "stream",
     "text": [
      "torch.Size([16, 3, 224, 224]) torch.Size([16])\n"
     ]
    }
   ],
   "source": [
    "images, targets = next(iter(tr_loader))\n",
    "print(images.shape, targets.shape)"
   ]
  },
  {
   "cell_type": "markdown",
   "id": "0cd5a20e",
   "metadata": {},
   "source": [
    "## 모델 생성"
   ]
  },
  {
   "cell_type": "code",
   "execution_count": 19,
   "id": "08d8a0eb",
   "metadata": {
    "execution": {
     "iopub.execute_input": "2025-06-24T04:02:26.441196Z",
     "iopub.status.busy": "2025-06-24T04:02:26.440534Z",
     "iopub.status.idle": "2025-06-24T04:02:33.114837Z",
     "shell.execute_reply": "2025-06-24T04:02:33.114104Z",
     "shell.execute_reply.started": "2025-06-24T04:02:26.441168Z"
    },
    "trusted": true
   },
   "outputs": [
    {
     "data": {
      "application/vnd.jupyter.widget-view+json": {
       "model_id": "96072c2a85c5415595b7fceb204295b0",
       "version_major": 2,
       "version_minor": 0
      },
      "text/plain": [
       "model.safetensors:   0%|          | 0.00/22.1M [00:00<?, ?B/s]"
      ]
     },
     "metadata": {},
     "output_type": "display_data"
    }
   ],
   "source": [
    "import timm\n",
    "mobilenetv3_s_100 = timm.create_model(model_name=\"mobilenetv3_large_100\", pretrained=True, num_classes=3)"
   ]
  },
  {
   "cell_type": "markdown",
   "id": "3fe1cec3",
   "metadata": {},
   "source": [
    "## Trainer, Predictor, ModelCheckpoint, EarlyStopping"
   ]
  },
  {
   "cell_type": "code",
   "execution_count": 20,
   "id": "525fe3f5",
   "metadata": {
    "execution": {
     "iopub.execute_input": "2025-06-24T04:02:39.132068Z",
     "iopub.status.busy": "2025-06-24T04:02:39.131144Z",
     "iopub.status.idle": "2025-06-24T04:02:39.147022Z",
     "shell.execute_reply": "2025-06-24T04:02:39.146235Z",
     "shell.execute_reply.started": "2025-06-24T04:02:39.132041Z"
    },
    "trusted": true
   },
   "outputs": [],
   "source": [
    "from tqdm import tqdm\n",
    "import torch.nn.functional as F\n",
    "\n",
    "class Trainer:\n",
    "    def __init__(self, model, loss_fn, optimizer, tr_loader, val_loader, scheduler=None, callbacks=None, metric=None, device=None):\n",
    "        self.model = model.to(device)\n",
    "        self.loss_fn = loss_fn\n",
    "        self.optimizer = optimizer\n",
    "        self.tr_loader = tr_loader\n",
    "        self.val_loader = val_loader\n",
    "        self.scheduler = scheduler\n",
    "        self.callbacks = callbacks\n",
    "        self.metric = metric.to(device)\n",
    "        self.device = device\n",
    "        self.current_lr = self.optimizer.param_groups[0]['lr']\n",
    "    \n",
    "    def train_epoch(self, epoch):\n",
    "        self.model.train()\n",
    "\n",
    "        accu_loss = 0.0\n",
    "        running_avg_loss = 0.0\n",
    "\n",
    "        self.metric.reset()\n",
    "        with tqdm(total=len(self.tr_loader), desc=f\"Epoch {epoch+1} [Training..]\", leave=True) as progress_bar:\n",
    "            for batch_idx, (inputs, targets) in enumerate(self.tr_loader):\n",
    "                inputs = inputs.to(self.device)\n",
    "                targets = targets.to(self.device)\n",
    "\n",
    "                outputs = self.model(inputs)\n",
    "                loss = self.loss_fn(outputs, targets)\n",
    "\n",
    "                self.optimizer.zero_grad()\n",
    "                loss.backward()\n",
    "                self.optimizer.step()\n",
    "\n",
    "                accu_loss += loss.item()\n",
    "                running_avg_loss = accu_loss / (batch_idx + 1)\n",
    "\n",
    "                pred_proba = F.softmax(outputs, dim=-1)\n",
    "                self.metric.update(pred_proba, targets)\n",
    "\n",
    "                progress_bar.update(1)\n",
    "                if batch_idx % 20 == 0 or (batch_idx + 1) == progress_bar.total:\n",
    "                    progress_bar.set_postfix({\"Loss\":running_avg_loss,\n",
    "                                              \"Metrix\":self.metric.compute().item()})\n",
    "\n",
    "        if self.scheduler is not None and not(isinstance(self.scheduler, torch.optim.lr_scheduler.ReduceLROnPlateau)):\n",
    "            self.scheduler.step(running_avg_loss)\n",
    "            self.current_lr = self.scheduler.get_last_lr()[0]\n",
    "        \n",
    "        return running_avg_loss, self.metric.compute().item()\n",
    "    \n",
    "    def valid_epoch(self, epoch):\n",
    "        if self.val_loader is None:\n",
    "            return None, None\n",
    "        \n",
    "        self.model.eval()\n",
    "        accu_loss = 0.0\n",
    "        running_avg_loss = 0.0\n",
    "\n",
    "        self.metric.reset()\n",
    "        with tqdm(total=len(self.val_loader), desc=f\"Epoch {epoch+1} [Validation]\", leave=True) as progress_bar:\n",
    "            for batch_idx, (inputs, targets) in enumerate(self.val_loader):\n",
    "                inputs = inputs.to(self.device)\n",
    "                targets = targets.to(self.device)\n",
    "\n",
    "                outputs = self.model(inputs)\n",
    "\n",
    "                loss = self.loss_fn(outputs, targets)\n",
    "                accu_loss += loss.item()\n",
    "                running_avg_loss = accu_loss / (batch_idx + 1)\n",
    "\n",
    "                pred_proba = F.softmax(outputs)\n",
    "                self.metric.update(pred_proba, targets)\n",
    "\n",
    "                progress_bar.update(1)\n",
    "                if batch_idx % 20 == 0 or (batch_idx + 1) == progress_bar.total:\n",
    "                    progress_bar.set_postfix({\"Loss\":running_avg_loss, \n",
    "                                          \"Metrix\":self.metric.compute().item()})\n",
    "                    \n",
    "        if isinstance(self.scheduler, torch.optim.lr_scheduler.ReduceLROnPlateau):\n",
    "            self.scheduler.step(running_avg_loss)\n",
    "            self.current_lr = self.scheduler.get_last_lr()[0]\n",
    "\n",
    "        return running_avg_loss, self.metric.compute().item()\n",
    "    \n",
    "    def fit(self, epochs):\n",
    "        history = {\"train_loss\" : [], \"train_metric\" : [], \"val_loss\" : [], \"val_metric\" : [], \"lr\" : []}\n",
    "        for epoch in range(epochs):\n",
    "            train_loss, train_metric = self.train_epoch(epoch)\n",
    "            val_loss, val_metric = self.valid_epoch(epoch)\n",
    "            print(f\"Epoch {epoch+1}/{epochs}, Train Loss: {train_loss:.4f} Train Auc: {train_metric:.4f}\",\n",
    "                  f\", Val Loss: {val_loss:.4f} Val Auc: {val_metric:.4f}\" if val_loss is not None else \"\",\n",
    "                  f\", Current lr:{self.current_lr:.6f}\")\n",
    "            history[\"train_loss\"].append(train_loss); history[\"train_metric\"].append(train_metric)\n",
    "            history[\"val_loss\"].append(val_loss); history[\"val_metric\"].append(val_metric)\n",
    "            history[\"lr\"].append(self.current_lr)\n",
    "        \n",
    "            if self.callbacks:\n",
    "                is_epoch_loop_break = self._execute_callbacks(self.callbacks, self.model, epoch, val_loss, val_metric)\n",
    "                if is_epoch_loop_break:\n",
    "                    break\n",
    "\n",
    "        return history\n",
    "    \n",
    "    def _execute_callbacks(self, callbacks, model, epoch, val_loss, val_metric):\n",
    "        is_epoch_loop_break = False\n",
    "\n",
    "        for callback in self.callbacks:\n",
    "            if isinstance(callback, ModelCheckpoint):\n",
    "                if callback.monitor == 'val_loss':\n",
    "                    callback.save(model, epoch, val_loss)\n",
    "                elif callback.monitor == 'val_metric':\n",
    "                    callback.save(model, epoch, val_metric)\n",
    "\n",
    "            if isinstance(callback, EarlyStopping):\n",
    "                if callback.monitor == 'val_loss':\n",
    "                    is_epoch_loop_break = callback.check_early_stop(val_loss)\n",
    "                elif callback.monitor == 'val_metric':\n",
    "                    is_epoch_loop_break = callback.check_early_stop(val_metric)\n",
    "\n",
    "        return is_epoch_loop_break\n",
    "    \n",
    "    def get_trained_model(self):\n",
    "        return self.model\n",
    "\n",
    "\n"
   ]
  },
  {
   "cell_type": "code",
   "execution_count": 11,
   "id": "d1f5c6d9",
   "metadata": {
    "execution": {
     "iopub.execute_input": "2025-06-24T04:02:42.622316Z",
     "iopub.status.busy": "2025-06-24T04:02:42.622053Z",
     "iopub.status.idle": "2025-06-24T04:02:42.629864Z",
     "shell.execute_reply": "2025-06-24T04:02:42.629139Z",
     "shell.execute_reply.started": "2025-06-24T04:02:42.622295Z"
    },
    "trusted": true
   },
   "outputs": [],
   "source": [
    "class Predictor:\n",
    "    def __init__(self, model, device):\n",
    "        self.model = model.to(device)\n",
    "        self.device = device\n",
    "\n",
    "    def evaluate(self, loader):\n",
    "        # 현재 입력으로 들어온 데이터의 batch 통계(mean, variance)를 사용하지 않고, 학습 시 계산된 running 통계값을 사용\n",
    "        self.model.eval()\n",
    "        eval_metric = 0.0\n",
    "        # 정확도 계산을 위한 전체 건수 및 누적 정확건수\n",
    "        num_total = 0.0\n",
    "        accu_num_correct = 0.0\n",
    "\n",
    "        with tqdm(total=len(loader), desc=f\"[Evaluating]\", leave=True) as progress_bar:\n",
    "            with torch.no_grad():\n",
    "                for batch_idx, (inputs, targets) in enumerate(loader):\n",
    "                    inputs = inputs.to(self.device)\n",
    "                    targets = targets.to(self.device)\n",
    "                    pred = self.model(inputs)\n",
    "\n",
    "                    # 정확도 계산을 위해 누적 전체 건수와 누적 전체 num_correct 건수 계산  \n",
    "                    num_correct = (pred.argmax(-1) == targets).sum().item()\n",
    "                    num_total += inputs.shape[0]\n",
    "                    accu_num_correct += num_correct\n",
    "                    eval_metric = accu_num_correct / num_total\n",
    "\n",
    "                    progress_bar.update(1)\n",
    "                    if batch_idx % 20 == 0 or (batch_idx + 1) == progress_bar.total:\n",
    "                        progress_bar.set_postfix({\"Accuracy\": eval_metric})\n",
    "        \n",
    "        return eval_metric\n",
    "\n",
    "    def predict_proba(self, inputs):\n",
    "        self.model.eval()\n",
    "        with torch.no_grad():\n",
    "            inputs = inputs.to(self.device)\n",
    "            outputs = self.model(inputs)\n",
    "            #예측값을 반환하므로 targets은 필요 없음.\n",
    "            #targets = targets.to(self.device)\n",
    "            pred_proba = F.softmax(outputs, dim=-1) #또는 dim=1\n",
    "\n",
    "        return pred_proba\n",
    "\n",
    "    def predict(self, inputs):\n",
    "        pred_proba = self.predict_proba(inputs)\n",
    "        pred_class = torch.argmax(pred_proba, dim=-1)\n",
    "\n",
    "        return pred_class"
   ]
  },
  {
   "cell_type": "code",
   "execution_count": 21,
   "id": "f3096d00",
   "metadata": {
    "execution": {
     "iopub.execute_input": "2025-06-24T04:02:44.296282Z",
     "iopub.status.busy": "2025-06-24T04:02:44.295714Z",
     "iopub.status.idle": "2025-06-24T04:02:44.303285Z",
     "shell.execute_reply": "2025-06-24T04:02:44.302549Z",
     "shell.execute_reply.started": "2025-06-24T04:02:44.296259Z"
    },
    "trusted": true
   },
   "outputs": [],
   "source": [
    "import os\n",
    "import torch\n",
    "\n",
    "class ModelCheckpoint:\n",
    "    def __init__(self, checkpoint_dir='checkpoints', monitor='val_loss', mode='min', save_interval=1, verbose=1):\n",
    "        self.checkpoint_dir = checkpoint_dir\n",
    "        self.monitor = monitor\n",
    "        self.mode = mode\n",
    "        self.best_value = float('inf') if mode == 'min' else -float('inf')\n",
    "        self.verbose = verbose\n",
    "        self.save_interval = save_interval\n",
    "        self._make_checkpoint_dir_unless()\n",
    "\n",
    "    def _make_checkpoint_dir_unless(self):\n",
    "        if not os.path.exists(self.checkpoint_dir):\n",
    "            os.makedirs(self.checkpoint_dir)\n",
    "    \n",
    "    # mode 유형에 따라 metric value값이 이전 epoch시 보다 향상 되었는지 확인하여 True/False 값 return\n",
    "    def is_improvement(self, value):\n",
    "        if self.mode == 'min':\n",
    "            return value < self.best_value\n",
    "        else:\n",
    "            return value > self.best_value\n",
    "\n",
    "    # self.best_value값 update, is_improvement() 반환값이 True인 경우만 수행. \n",
    "    def update_best_value(self, value):\n",
    "        self.best_value = value\n",
    "\n",
    "    def save(self, model, epoch, value):\n",
    "        if self.save_interval == 1:\n",
    "            if self.is_improvement(value):\n",
    "                self._checkpoint_save(model, epoch, value)\n",
    "                self.update_best_value(value)\n",
    "            \n",
    "        elif self.save_interval > 1:\n",
    "            if (epoch + 1) % self.save_interval == 0:\n",
    "                self._checkpoint_save(model, epoch, value)\n",
    "            \n",
    "    def _checkpoint_save(self, model, epoch, value):\n",
    "        checkpoint_path = os.path.join(self.checkpoint_dir, \n",
    "                                       f'checkpoint_epoch_{epoch+1}_{self.monitor}_{value:.4f}.pt')\n",
    "        torch.save(model.state_dict(), checkpoint_path)\n",
    "        if self.verbose:\n",
    "            print(f\"Saved model checkpoint at {checkpoint_path}\")"
   ]
  },
  {
   "cell_type": "code",
   "execution_count": 22,
   "id": "51f550b5",
   "metadata": {
    "execution": {
     "iopub.execute_input": "2025-06-24T04:02:45.279501Z",
     "iopub.status.busy": "2025-06-24T04:02:45.279137Z",
     "iopub.status.idle": "2025-06-24T04:02:45.285090Z",
     "shell.execute_reply": "2025-06-24T04:02:45.284380Z",
     "shell.execute_reply.started": "2025-06-24T04:02:45.279479Z"
    },
    "trusted": true
   },
   "outputs": [],
   "source": [
    "class EarlyStopping:\n",
    "    def __init__(self, monitor='val_loss', mode='min', early_patience=5, verbose=1):\n",
    "        self.monitor = monitor\n",
    "        self.mode = mode\n",
    "        self.early_patience = early_patience\n",
    "        self.verbose = verbose\n",
    "        self.best_value = float('inf') if mode == 'min' else -float('inf')\n",
    "        self.counter = 0\n",
    "\n",
    "    def is_improvement(self, value):\n",
    "        if self.mode == 'min':\n",
    "            return value < self.best_value\n",
    "        else:\n",
    "            return value > self.best_value\n",
    "\n",
    "    def check_early_stop(self, value):\n",
    "        is_early_stopped = False\n",
    "        \n",
    "        if self.is_improvement(value):\n",
    "            self.best_value = value\n",
    "            self.counter = 0\n",
    "            is_early_stopped =False\n",
    "        else:\n",
    "            self.counter += 1\n",
    "            if self.verbose:\n",
    "                print(f\"EarlyStopping counter: {self.counter}/{self.early_patience}\")\n",
    "            if self.counter >= self.early_patience:\n",
    "                is_early_stopped = True\n",
    "                if self.verbose:\n",
    "                    print(\"Early stopping happens and train stops\")\n",
    "        \n",
    "        return is_early_stopped\n",
    "        "
   ]
  },
  {
   "cell_type": "markdown",
   "id": "e787830d",
   "metadata": {},
   "source": [
    "## Training"
   ]
  },
  {
   "cell_type": "code",
   "execution_count": 23,
   "id": "47c58bcf",
   "metadata": {
    "execution": {
     "iopub.execute_input": "2025-06-24T04:02:47.925461Z",
     "iopub.status.busy": "2025-06-24T04:02:47.925157Z",
     "iopub.status.idle": "2025-06-24T04:02:47.931288Z",
     "shell.execute_reply": "2025-06-24T04:02:47.930485Z",
     "shell.execute_reply.started": "2025-06-24T04:02:47.925440Z"
    },
    "trusted": true
   },
   "outputs": [],
   "source": [
    "import torch.optim as optim\n",
    "from torch.optim import Adam\n",
    "\n",
    "def train_focus(model, tr_df, val_df, tr_transform, val_transform, \n",
    "                metric=None, learning_rate=1e-3, lr_scheduler_fn=None, \n",
    "                callbacks=None, epochs=30):\n",
    "    tr_loader, val_loader = create_tr_val_loader(tr_df=tr_df, val_df=val_df, \n",
    "                                                 tr_transform=tr_transform, val_transform=val_transform)\n",
    "    device = torch.device('cuda' if torch.cuda.is_available() else 'cpu')\n",
    "    optimizer = Adam(model.parameters(), lr=learning_rate)\n",
    "    loss_fn = nn.CrossEntropyLoss()\n",
    "    scheduler = lr_scheduler_fn(optimizer)\n",
    "\n",
    "    trainer = Trainer(model=model, loss_fn=loss_fn, optimizer=optimizer, \n",
    "                      tr_loader=tr_loader, val_loader=val_loader, scheduler=scheduler, callbacks=callbacks,\n",
    "                      metric=metric, device=device)\n",
    "    history = trainer.fit(epochs)\n",
    "\n",
    "    return trainer, history"
   ]
  },
  {
   "cell_type": "code",
   "execution_count": 24,
   "id": "729c51fc",
   "metadata": {
    "execution": {
     "iopub.execute_input": "2025-06-24T04:02:49.859657Z",
     "iopub.status.busy": "2025-06-24T04:02:49.859400Z",
     "iopub.status.idle": "2025-06-24T04:06:44.841896Z",
     "shell.execute_reply": "2025-06-24T04:06:44.840974Z",
     "shell.execute_reply.started": "2025-06-24T04:02:49.859639Z"
    },
    "trusted": true
   },
   "outputs": [
    {
     "name": "stderr",
     "output_type": "stream",
     "text": [
      "Epoch 1 [Training..]: 100%|██████████| 52/52 [01:15<00:00,  1.44s/it, Loss=0.664, Metrix=0.993]\n",
      "Epoch 1 [Validation]:   0%|          | 0/10 [00:00<?, ?it/s]/var/folders/d0/hmz4pp5x04s8h15wtzsgw_zm0000gn/T/ipykernel_20794/1188845218.py:73: UserWarning: Implicit dimension choice for softmax has been deprecated. Change the call to include dim=X as an argument.\n",
      "  pred_proba = F.softmax(outputs)\n",
      "Epoch 1 [Validation]: 100%|██████████| 10/10 [00:06<00:00,  1.49it/s, Loss=0.00472, Metrix=1]\n"
     ]
    },
    {
     "name": "stdout",
     "output_type": "stream",
     "text": [
      "Epoch 1/100, Train Loss: 0.6644 Train Auc: 0.9926 , Val Loss: 0.0047 Val Auc: 1.0000 , Current lr:0.001000\n",
      "Saved model checkpoint at /users/kimjohyeon/Desktop/Zypt_Model/checkpoint/checkpoint_epoch_1_val_metric_1.0000.pt\n"
     ]
    },
    {
     "name": "stderr",
     "output_type": "stream",
     "text": [
      "Epoch 2 [Training..]: 100%|██████████| 52/52 [01:20<00:00,  1.55s/it, Loss=0.00577, Metrix=1]\n",
      "Epoch 2 [Validation]: 100%|██████████| 10/10 [00:06<00:00,  1.45it/s, Loss=0.032, Metrix=1]\n"
     ]
    },
    {
     "name": "stdout",
     "output_type": "stream",
     "text": [
      "Epoch 2/100, Train Loss: 0.0058 Train Auc: 1.0000 , Val Loss: 0.0320 Val Auc: 1.0000 , Current lr:0.001000\n",
      "EarlyStopping counter: 1/5\n"
     ]
    },
    {
     "name": "stderr",
     "output_type": "stream",
     "text": [
      "Epoch 3 [Training..]: 100%|██████████| 52/52 [01:21<00:00,  1.58s/it, Loss=0.0805, Metrix=0.999]\n",
      "Epoch 3 [Validation]: 100%|██████████| 10/10 [00:06<00:00,  1.43it/s, Loss=1.97e-6, Metrix=1]\n"
     ]
    },
    {
     "name": "stdout",
     "output_type": "stream",
     "text": [
      "Epoch 3/100, Train Loss: 0.0805 Train Auc: 0.9991 , Val Loss: 0.0000 Val Auc: 1.0000 , Current lr:0.001000\n",
      "EarlyStopping counter: 2/5\n"
     ]
    },
    {
     "name": "stderr",
     "output_type": "stream",
     "text": [
      "Epoch 4 [Training..]: 100%|██████████| 52/52 [01:23<00:00,  1.60s/it, Loss=0.873, Metrix=0.992]\n",
      "Epoch 4 [Validation]: 100%|██████████| 10/10 [00:07<00:00,  1.42it/s, Loss=7.28e-6, Metrix=1]\n"
     ]
    },
    {
     "name": "stdout",
     "output_type": "stream",
     "text": [
      "Epoch 4/100, Train Loss: 0.8726 Train Auc: 0.9916 , Val Loss: 0.0000 Val Auc: 1.0000 , Current lr:0.001000\n",
      "EarlyStopping counter: 3/5\n"
     ]
    },
    {
     "name": "stderr",
     "output_type": "stream",
     "text": [
      "Epoch 5 [Training..]: 100%|██████████| 52/52 [01:23<00:00,  1.61s/it, Loss=0.637, Metrix=0.994]\n",
      "Epoch 5 [Validation]: 100%|██████████| 10/10 [00:07<00:00,  1.41it/s, Loss=0.222, Metrix=0.998]\n"
     ]
    },
    {
     "name": "stdout",
     "output_type": "stream",
     "text": [
      "Epoch 5/100, Train Loss: 0.6369 Train Auc: 0.9940 , Val Loss: 0.2224 Val Auc: 0.9984 , Current lr:0.001000\n",
      "EarlyStopping counter: 4/5\n"
     ]
    },
    {
     "name": "stderr",
     "output_type": "stream",
     "text": [
      "Epoch 6 [Training..]: 100%|██████████| 52/52 [01:24<00:00,  1.62s/it, Loss=0.124, Metrix=0.999]\n",
      "Epoch 6 [Validation]: 100%|██████████| 10/10 [00:07<00:00,  1.38it/s, Loss=0, Metrix=1]"
     ]
    },
    {
     "name": "stdout",
     "output_type": "stream",
     "text": [
      "Epoch 6/100, Train Loss: 0.1240 Train Auc: 0.9989 , Val Loss: 0.0000 Val Auc: 1.0000 , Current lr:0.001000\n",
      "EarlyStopping counter: 5/5\n",
      "Early stopping happens and train stops\n"
     ]
    },
    {
     "name": "stderr",
     "output_type": "stream",
     "text": [
      "\n"
     ]
    }
   ],
   "source": [
    "from torchmetrics.classification import AUROC, Accuracy\n",
    "\n",
    "acu_metric = AUROC(task='multiclass', num_classes=3)\n",
    "\n",
    "def get_reduce_lr_scheduler(optimizer):\n",
    "    lr_scheduler = optim.lr_scheduler.ReduceLROnPlateau(optimizer=optimizer, mode=\"min\", factor=0.2, patience=3, threshold=0.01, min_lr=1e-7)\n",
    "    \n",
    "    return lr_scheduler\n",
    "\n",
    "model_checkpoint = ModelCheckpoint('/users/kimjohyeon/Desktop/Zypt_Model/checkpoint', monitor='val_metric', mode='max') # 체크포인트 위치 변경.\n",
    "early_stopping = EarlyStopping(monitor='val_metric', mode='max', early_patience=5, verbose=1)\n",
    "trainer_mobilenetv3_s_100, history = train_focus(mobilenetv3_s_100, tr_df=tr_df, val_df=val_df,\n",
    "                                  tr_transform=tr_transform, val_transform=val_transform,\n",
    "                                  metric=acu_metric, learning_rate=1e-3, \n",
    "                                  lr_scheduler_fn=get_reduce_lr_scheduler, callbacks=[model_checkpoint, early_stopping], \n",
    "                                  epochs=100)\n"
   ]
  },
  {
   "cell_type": "markdown",
   "id": "d0e528d0-eadc-4017-802b-953690a7c790",
   "metadata": {},
   "source": [
    "## Train & Validation 데이터의 Loss, Metric 시각화"
   ]
  },
  {
   "cell_type": "code",
   "execution_count": 65,
   "id": "8d2bc418-40b4-4a0a-9376-e11c8cffae62",
   "metadata": {
    "execution": {
     "iopub.execute_input": "2025-06-24T04:36:15.437387Z",
     "iopub.status.busy": "2025-06-24T04:36:15.436659Z",
     "iopub.status.idle": "2025-06-24T04:36:15.796648Z",
     "shell.execute_reply": "2025-06-24T04:36:15.795781Z",
     "shell.execute_reply.started": "2025-06-24T04:36:15.437358Z"
    },
    "trusted": true
   },
   "outputs": [
    {
     "data": {
      "image/png": "[encoded data removed]",
      "text/plain": [
       "<Figure size 1200x500 with 2 Axes>"
      ]
     },
     "metadata": {},
     "output_type": "display_data"
    }
   ],
   "source": [
    "import matplotlib.pyplot as plt\n",
    "\n",
    "# Metric 시각화\n",
    "plt.figure(figsize=(12, 5))\n",
    "\n",
    "plt.subplot(1, 2, 1)\n",
    "plt.plot(history['train_metric'], label='Train Metric')\n",
    "plt.plot(history['val_metric'], label='Val Metric')\n",
    "plt.title('Epoch vs Metric')\n",
    "plt.xlabel('Epoch')\n",
    "plt.ylabel('Metric')\n",
    "plt.legend()\n",
    "\n",
    "# 손실 시각화\n",
    "plt.subplot(1, 2, 2)\n",
    "plt.plot(history['train_loss'], label='Train Loss')\n",
    "plt.plot(history['val_loss'], label='Val Loss')\n",
    "plt.title('Epoch vs Loss')\n",
    "plt.xlabel('Epoch')\n",
    "plt.ylabel('Loss')\n",
    "plt.legend()\n",
    "\n",
    "plt.tight_layout()\n",
    "plt.show()"
   ]
  },
  {
   "cell_type": "markdown",
   "id": "6c5102d7-0e15-4c43-9719-8ae45fdc8102",
   "metadata": {},
   "source": [
    "## Test"
   ]
  },
  {
   "cell_type": "code",
   "execution_count": 53,
   "id": "2672ae06-0dd6-4a8e-afbc-22c18f356513",
   "metadata": {
    "execution": {
     "iopub.execute_input": "2025-06-24T04:35:57.672755Z",
     "iopub.status.busy": "2025-06-24T04:35:57.672459Z",
     "iopub.status.idle": "2025-06-24T04:35:58.765156Z",
     "shell.execute_reply": "2025-06-24T04:35:58.764416Z",
     "shell.execute_reply.started": "2025-06-24T04:35:57.672736Z"
    },
    "trusted": true
   },
   "outputs": [
    {
     "name": "stdout",
     "output_type": "stream",
     "text": [
      "torch.Size([64, 3, 224, 224])\n"
     ]
    }
   ],
   "source": [
    "test_image_paths = test_df['path'].to_list()\n",
    "\n",
    "test_transform = A.Compose([\n",
    "    A.Resize(IMG_SIZE, IMG_SIZE),\n",
    "    A.Normalize(mean=(0.485, 0.456, 0.406), std=(0.229, 0.224, 0.225)),\n",
    "    ToTensorV2()\n",
    "])\n",
    "# targets는 None\n",
    "test_dataset = FocusDataset(image_paths=test_image_paths, \n",
    "                            targets=None, transform=test_transform)\n",
    "\n",
    "test_loader = DataLoader(test_dataset, batch_size=64, shuffle=False, num_workers=4, pin_memory=True)\n",
    "\n",
    "images = next(iter(test_loader))\n",
    "print(images.shape)\n",
    "# 아래는 image tensor만 반환함. target값 없음. \n",
    "# print(test_dataset[0])"
   ]
  },
  {
   "cell_type": "code",
   "execution_count": 54,
   "id": "40e0efca-0430-47e0-a6ca-4c863388df44",
   "metadata": {
    "execution": {
     "iopub.execute_input": "2025-06-24T04:35:58.934846Z",
     "iopub.status.busy": "2025-06-24T04:35:58.934575Z",
     "iopub.status.idle": "2025-06-24T04:35:58.939683Z",
     "shell.execute_reply": "2025-06-24T04:35:58.938857Z",
     "shell.execute_reply.started": "2025-06-24T04:35:58.934814Z"
    },
    "trusted": true
   },
   "outputs": [],
   "source": [
    "# 모든 테스트 데이터에 대해서 예측 수행 후 numpy로 반환 \n",
    "def get_all_proba(predictor, test_loader):\n",
    "    proba_all_list = []\n",
    "    \n",
    "    for images in test_loader:\n",
    "        probas = predictor.predict_proba(images).cpu().numpy()\n",
    "        # 개별 원소값으로 저장해야 하므로 append()가 아니라 extend()로 list에 저장. \n",
    "        proba_all_list.extend(probas)\n",
    "\n",
    "    proba_all = np.array(proba_all_list)\n",
    "\n",
    "    return proba_all"
   ]
  },
  {
   "cell_type": "code",
   "execution_count": 55,
   "id": "74619686-7b70-4318-b017-0837e9d0a8c3",
   "metadata": {
    "execution": {
     "iopub.execute_input": "2025-06-24T04:36:00.549611Z",
     "iopub.status.busy": "2025-06-24T04:36:00.549107Z",
     "iopub.status.idle": "2025-06-24T04:36:00.718455Z",
     "shell.execute_reply": "2025-06-24T04:36:00.717870Z",
     "shell.execute_reply.started": "2025-06-24T04:36:00.549588Z"
    },
    "trusted": true
   },
   "outputs": [
    {
     "data": {
      "text/plain": [
       "<All keys matched successfully>"
      ]
     },
     "execution_count": 55,
     "metadata": {},
     "output_type": "execute_result"
    }
   ],
   "source": [
    "# 가장 검증 성능이 좋은 weight 파일을 모델로 로딩. \n",
    "state_dict = torch.load('/kaggle/working/checkpoint_epoch_1_val_metric_1.0000.pt', weights_only=True)\n",
    "best_trained_model = timm.create_model(model_name=\"mobilenetv3_large_100\", pretrained=False, num_classes=3)\n",
    "best_trained_model.load_state_dict(state_dict)"
   ]
  },
  {
   "cell_type": "code",
   "execution_count": 56,
   "id": "c05eb1f3-f42d-41d4-b1ad-f2950cb3fe0d",
   "metadata": {
    "execution": {
     "iopub.execute_input": "2025-06-24T04:36:02.335316Z",
     "iopub.status.busy": "2025-06-24T04:36:02.334551Z",
     "iopub.status.idle": "2025-06-24T04:36:03.522432Z",
     "shell.execute_reply": "2025-06-24T04:36:03.521201Z",
     "shell.execute_reply.started": "2025-06-24T04:36:02.335285Z"
    },
    "trusted": true
   },
   "outputs": [],
   "source": [
    "# best_trained_model = trainer_effb1_01.get_trained_model()\n",
    "device = torch.device('cuda' if torch.cuda.is_available() else 'cpu')\n",
    "predictor = Predictor(model=best_trained_model, device=device)\n",
    "\n",
    "proba_all = get_all_proba(predictor, test_loader)"
   ]
  },
  {
   "cell_type": "code",
   "execution_count": 57,
   "id": "f57285c4-3f5f-4cd0-ad3b-91f803506edb",
   "metadata": {
    "execution": {
     "iopub.execute_input": "2025-06-24T04:36:03.524924Z",
     "iopub.status.busy": "2025-06-24T04:36:03.524076Z",
     "iopub.status.idle": "2025-06-24T04:36:03.541175Z",
     "shell.execute_reply": "2025-06-24T04:36:03.540645Z",
     "shell.execute_reply.started": "2025-06-24T04:36:03.524889Z"
    },
    "trusted": true
   },
   "outputs": [
    {
     "data": {
      "text/html": [
       "<div>\n",
       "<style scoped>\n",
       "    .dataframe tbody tr th:only-of-type {\n",
       "        vertical-align: middle;\n",
       "    }\n",
       "\n",
       "    .dataframe tbody tr th {\n",
       "        vertical-align: top;\n",
       "    }\n",
       "\n",
       "    .dataframe thead th {\n",
       "        text-align: right;\n",
       "    }\n",
       "</style>\n",
       "<table border=\"1\" class=\"dataframe\">\n",
       "  <thead>\n",
       "    <tr style=\"text-align: right;\">\n",
       "      <th></th>\n",
       "      <th>focused</th>\n",
       "      <th>not focused</th>\n",
       "      <th>drowsy</th>\n",
       "      <th>predict</th>\n",
       "    </tr>\n",
       "  </thead>\n",
       "  <tbody>\n",
       "    <tr>\n",
       "      <th>0</th>\n",
       "      <td>1.000000e+00</td>\n",
       "      <td>5.073416e-18</td>\n",
       "      <td>7.264878e-22</td>\n",
       "      <td>focused</td>\n",
       "    </tr>\n",
       "    <tr>\n",
       "      <th>1</th>\n",
       "      <td>1.000000e+00</td>\n",
       "      <td>7.707131e-20</td>\n",
       "      <td>8.098269e-18</td>\n",
       "      <td>focused</td>\n",
       "    </tr>\n",
       "    <tr>\n",
       "      <th>2</th>\n",
       "      <td>1.000000e+00</td>\n",
       "      <td>6.953874e-18</td>\n",
       "      <td>1.087726e-12</td>\n",
       "      <td>focused</td>\n",
       "    </tr>\n",
       "    <tr>\n",
       "      <th>3</th>\n",
       "      <td>1.000000e+00</td>\n",
       "      <td>1.282285e-19</td>\n",
       "      <td>5.168455e-16</td>\n",
       "      <td>focused</td>\n",
       "    </tr>\n",
       "    <tr>\n",
       "      <th>4</th>\n",
       "      <td>2.676514e-17</td>\n",
       "      <td>2.361757e-22</td>\n",
       "      <td>1.000000e+00</td>\n",
       "      <td>drowsy</td>\n",
       "    </tr>\n",
       "  </tbody>\n",
       "</table>\n",
       "</div>"
      ],
      "text/plain": [
       "        focused   not focused        drowsy  predict\n",
       "0  1.000000e+00  5.073416e-18  7.264878e-22  focused\n",
       "1  1.000000e+00  7.707131e-20  8.098269e-18  focused\n",
       "2  1.000000e+00  6.953874e-18  1.087726e-12  focused\n",
       "3  1.000000e+00  1.282285e-19  5.168455e-16  focused\n",
       "4  2.676514e-17  2.361757e-22  1.000000e+00   drowsy"
      ]
     },
     "execution_count": 57,
     "metadata": {},
     "output_type": "execute_result"
    }
   ],
   "source": [
    "proba_all_df = pd.DataFrame(proba_all)\n",
    "proba_all_df.columns = [\"focused\", \"not focused\", \"drowsy\"]\n",
    "proba_all_df[\"predict\"] = proba_all_df.idxmax(axis=1)\n",
    "proba_all_df.head()"
   ]
  },
  {
   "cell_type": "code",
   "execution_count": 59,
   "id": "9e49a3f7-7dc7-4c35-b82d-02aae6138a48",
   "metadata": {
    "execution": {
     "iopub.execute_input": "2025-06-24T04:36:04.205217Z",
     "iopub.status.busy": "2025-06-24T04:36:04.204948Z",
     "iopub.status.idle": "2025-06-24T04:36:04.213439Z",
     "shell.execute_reply": "2025-06-24T04:36:04.212757Z",
     "shell.execute_reply.started": "2025-06-24T04:36:04.205196Z"
    },
    "trusted": true
   },
   "outputs": [
    {
     "data": {
      "text/html": [
       "<div>\n",
       "<style scoped>\n",
       "    .dataframe tbody tr th:only-of-type {\n",
       "        vertical-align: middle;\n",
       "    }\n",
       "\n",
       "    .dataframe tbody tr th {\n",
       "        vertical-align: top;\n",
       "    }\n",
       "\n",
       "    .dataframe thead th {\n",
       "        text-align: right;\n",
       "    }\n",
       "</style>\n",
       "<table border=\"1\" class=\"dataframe\">\n",
       "  <thead>\n",
       "    <tr style=\"text-align: right;\">\n",
       "      <th></th>\n",
       "      <th>path</th>\n",
       "      <th>label</th>\n",
       "      <th>target</th>\n",
       "    </tr>\n",
       "  </thead>\n",
       "  <tbody>\n",
       "    <tr>\n",
       "      <th>0</th>\n",
       "      <td>/kaggle/input/sorted-faces/sorted_faces/focuse...</td>\n",
       "      <td>focused</td>\n",
       "      <td>0</td>\n",
       "    </tr>\n",
       "    <tr>\n",
       "      <th>1</th>\n",
       "      <td>/kaggle/input/sorted-faces/sorted_faces/focuse...</td>\n",
       "      <td>focused</td>\n",
       "      <td>0</td>\n",
       "    </tr>\n",
       "    <tr>\n",
       "      <th>2</th>\n",
       "      <td>/kaggle/input/sorted-faces/sorted_faces/focuse...</td>\n",
       "      <td>focused</td>\n",
       "      <td>0</td>\n",
       "    </tr>\n",
       "    <tr>\n",
       "      <th>3</th>\n",
       "      <td>/kaggle/input/sorted-faces/sorted_faces/focuse...</td>\n",
       "      <td>focused</td>\n",
       "      <td>0</td>\n",
       "    </tr>\n",
       "    <tr>\n",
       "      <th>4</th>\n",
       "      <td>/kaggle/input/sorted-faces/sorted_faces/drowsy...</td>\n",
       "      <td>drowsy</td>\n",
       "      <td>2</td>\n",
       "    </tr>\n",
       "  </tbody>\n",
       "</table>\n",
       "</div>"
      ],
      "text/plain": [
       "                                                path    label  target\n",
       "0  /kaggle/input/sorted-faces/sorted_faces/focuse...  focused       0\n",
       "1  /kaggle/input/sorted-faces/sorted_faces/focuse...  focused       0\n",
       "2  /kaggle/input/sorted-faces/sorted_faces/focuse...  focused       0\n",
       "3  /kaggle/input/sorted-faces/sorted_faces/focuse...  focused       0\n",
       "4  /kaggle/input/sorted-faces/sorted_faces/drowsy...   drowsy       2"
      ]
     },
     "execution_count": 59,
     "metadata": {},
     "output_type": "execute_result"
    }
   ],
   "source": [
    "test_df_reset = test_df.reset_index(drop=True)\n",
    "test_df_reset.head()"
   ]
  },
  {
   "cell_type": "code",
   "execution_count": 60,
   "id": "6c68238c-5286-4ad1-a46d-7b83c31f7cab",
   "metadata": {
    "execution": {
     "iopub.execute_input": "2025-06-24T04:36:08.752941Z",
     "iopub.status.busy": "2025-06-24T04:36:08.752379Z",
     "iopub.status.idle": "2025-06-24T04:36:08.764398Z",
     "shell.execute_reply": "2025-06-24T04:36:08.763732Z",
     "shell.execute_reply.started": "2025-06-24T04:36:08.752917Z"
    },
    "trusted": true
   },
   "outputs": [
    {
     "data": {
      "text/html": [
       "<div>\n",
       "<style scoped>\n",
       "    .dataframe tbody tr th:only-of-type {\n",
       "        vertical-align: middle;\n",
       "    }\n",
       "\n",
       "    .dataframe tbody tr th {\n",
       "        vertical-align: top;\n",
       "    }\n",
       "\n",
       "    .dataframe thead th {\n",
       "        text-align: right;\n",
       "    }\n",
       "</style>\n",
       "<table border=\"1\" class=\"dataframe\">\n",
       "  <thead>\n",
       "    <tr style=\"text-align: right;\">\n",
       "      <th></th>\n",
       "      <th>label</th>\n",
       "      <th>focused</th>\n",
       "      <th>not focused</th>\n",
       "      <th>drowsy</th>\n",
       "      <th>predict</th>\n",
       "    </tr>\n",
       "  </thead>\n",
       "  <tbody>\n",
       "    <tr>\n",
       "      <th>0</th>\n",
       "      <td>focused</td>\n",
       "      <td>1.000000e+00</td>\n",
       "      <td>5.073416e-18</td>\n",
       "      <td>7.264878e-22</td>\n",
       "      <td>focused</td>\n",
       "    </tr>\n",
       "    <tr>\n",
       "      <th>1</th>\n",
       "      <td>focused</td>\n",
       "      <td>1.000000e+00</td>\n",
       "      <td>7.707131e-20</td>\n",
       "      <td>8.098269e-18</td>\n",
       "      <td>focused</td>\n",
       "    </tr>\n",
       "    <tr>\n",
       "      <th>2</th>\n",
       "      <td>focused</td>\n",
       "      <td>1.000000e+00</td>\n",
       "      <td>6.953874e-18</td>\n",
       "      <td>1.087726e-12</td>\n",
       "      <td>focused</td>\n",
       "    </tr>\n",
       "    <tr>\n",
       "      <th>3</th>\n",
       "      <td>focused</td>\n",
       "      <td>1.000000e+00</td>\n",
       "      <td>1.282285e-19</td>\n",
       "      <td>5.168455e-16</td>\n",
       "      <td>focused</td>\n",
       "    </tr>\n",
       "    <tr>\n",
       "      <th>4</th>\n",
       "      <td>drowsy</td>\n",
       "      <td>2.676514e-17</td>\n",
       "      <td>2.361757e-22</td>\n",
       "      <td>1.000000e+00</td>\n",
       "      <td>drowsy</td>\n",
       "    </tr>\n",
       "    <tr>\n",
       "      <th>...</th>\n",
       "      <td>...</td>\n",
       "      <td>...</td>\n",
       "      <td>...</td>\n",
       "      <td>...</td>\n",
       "      <td>...</td>\n",
       "    </tr>\n",
       "    <tr>\n",
       "      <th>103</th>\n",
       "      <td>not_focused</td>\n",
       "      <td>9.909838e-01</td>\n",
       "      <td>9.016167e-03</td>\n",
       "      <td>1.527393e-10</td>\n",
       "      <td>focused</td>\n",
       "    </tr>\n",
       "    <tr>\n",
       "      <th>104</th>\n",
       "      <td>drowsy</td>\n",
       "      <td>4.423182e-05</td>\n",
       "      <td>1.379021e-17</td>\n",
       "      <td>9.999558e-01</td>\n",
       "      <td>drowsy</td>\n",
       "    </tr>\n",
       "    <tr>\n",
       "      <th>105</th>\n",
       "      <td>focused</td>\n",
       "      <td>1.000000e+00</td>\n",
       "      <td>9.485944e-19</td>\n",
       "      <td>4.757272e-13</td>\n",
       "      <td>focused</td>\n",
       "    </tr>\n",
       "    <tr>\n",
       "      <th>106</th>\n",
       "      <td>drowsy</td>\n",
       "      <td>6.654373e-13</td>\n",
       "      <td>2.211255e-22</td>\n",
       "      <td>1.000000e+00</td>\n",
       "      <td>drowsy</td>\n",
       "    </tr>\n",
       "    <tr>\n",
       "      <th>107</th>\n",
       "      <td>focused</td>\n",
       "      <td>1.000000e+00</td>\n",
       "      <td>5.009813e-19</td>\n",
       "      <td>2.133380e-19</td>\n",
       "      <td>focused</td>\n",
       "    </tr>\n",
       "  </tbody>\n",
       "</table>\n",
       "<p>108 rows × 5 columns</p>\n",
       "</div>"
      ],
      "text/plain": [
       "           label       focused   not focused        drowsy  predict\n",
       "0        focused  1.000000e+00  5.073416e-18  7.264878e-22  focused\n",
       "1        focused  1.000000e+00  7.707131e-20  8.098269e-18  focused\n",
       "2        focused  1.000000e+00  6.953874e-18  1.087726e-12  focused\n",
       "3        focused  1.000000e+00  1.282285e-19  5.168455e-16  focused\n",
       "4         drowsy  2.676514e-17  2.361757e-22  1.000000e+00   drowsy\n",
       "..           ...           ...           ...           ...      ...\n",
       "103  not_focused  9.909838e-01  9.016167e-03  1.527393e-10  focused\n",
       "104       drowsy  4.423182e-05  1.379021e-17  9.999558e-01   drowsy\n",
       "105      focused  1.000000e+00  9.485944e-19  4.757272e-13  focused\n",
       "106       drowsy  6.654373e-13  2.211255e-22  1.000000e+00   drowsy\n",
       "107      focused  1.000000e+00  5.009813e-19  2.133380e-19  focused\n",
       "\n",
       "[108 rows x 5 columns]"
      ]
     },
     "execution_count": 60,
     "metadata": {},
     "output_type": "execute_result"
    }
   ],
   "source": [
    "result_df = pd.concat([test_df_reset[\"label\"], proba_all_df], axis=1)\n",
    "result_df"
   ]
  },
  {
   "cell_type": "code",
   "execution_count": 70,
   "id": "4391cb9d-2cea-4cf7-a62d-3a4a8ffcd425",
   "metadata": {
    "execution": {
     "iopub.execute_input": "2025-06-24T04:48:30.812794Z",
     "iopub.status.busy": "2025-06-24T04:48:30.812504Z",
     "iopub.status.idle": "2025-06-24T04:48:30.816156Z",
     "shell.execute_reply": "2025-06-24T04:48:30.815531Z",
     "shell.execute_reply.started": "2025-06-24T04:48:30.812774Z"
    },
    "trusted": true
   },
   "outputs": [],
   "source": [
    "max_proba_all = np.argmax(proba_all, axis=1)\n",
    "target_np = test_df[\"target\"].to_numpy()"
   ]
  },
  {
   "cell_type": "code",
   "execution_count": 71,
   "id": "93a60c81-4dcd-4ea5-aba2-8f344485c3fe",
   "metadata": {
    "execution": {
     "iopub.execute_input": "2025-06-24T04:48:35.450762Z",
     "iopub.status.busy": "2025-06-24T04:48:35.450502Z",
     "iopub.status.idle": "2025-06-24T04:48:35.455282Z",
     "shell.execute_reply": "2025-06-24T04:48:35.454563Z",
     "shell.execute_reply.started": "2025-06-24T04:48:35.450746Z"
    },
    "trusted": true
   },
   "outputs": [
    {
     "name": "stdout",
     "output_type": "stream",
     "text": [
      "0.8888888888888888\n"
     ]
    }
   ],
   "source": [
    "count = 0\n",
    "for i in range(len(test_df)):\n",
    "    if target_np[i] == max_proba_all[i]:\n",
    "        count += 1\n",
    "\n",
    "print(count / len(test_df))"
   ]
  },
  {
   "cell_type": "code",
   "execution_count": null,
   "id": "714d014d-ca85-4caf-8463-59fbbe40d83b",
   "metadata": {
    "trusted": true
   },
   "outputs": [],
   "source": []
  }
 ],
 "metadata": {
  "kaggle": {
   "accelerator": "gpu",
   "dataSources": [
    {
     "datasetId": 7721480,
     "sourceId": 12254332,
     "sourceType": "datasetVersion"
    }
   ],
   "dockerImageVersionId": 31041,
   "isGpuEnabled": true,
   "isInternetEnabled": true,
   "language": "python",
   "sourceType": "notebook"
  },
  "kernelspec": {
   "display_name": "ai",
   "language": "python",
   "name": "python3"
  },
  "language_info": {
   "codemirror_mode": {
    "name": "ipython",
    "version": 3
   },
   "file_extension": ".py",
   "mimetype": "text/x-python",
   "name": "python",
   "nbconvert_exporter": "python",
   "pygments_lexer": "ipython3",
   "version": "3.10.16"
  }
 },
 "nbformat": 4,
 "nbformat_minor": 5
}
