{
 "cells": [
  {
   "cell_type": "markdown",
   "id": "62025ab7-7659-4427-ae61-b68cebd0c998",
   "metadata": {},
   "source": [
    "## 데이터 모음"
   ]
  },
  {
   "cell_type": "code",
   "execution_count": 1,
   "id": "1e14af3c-121f-4bef-8ac8-fcad687fa20b",
   "metadata": {},
   "outputs": [
    {
     "name": "stdout",
     "output_type": "stream",
     "text": [
      "PyTorch 버전: 2.5.1+cu124\n",
      "CUDA 사용 가능 여부: True\n",
      "CUDA 버전: 12.4\n",
      "GPU 이름: NVIDIA RTX A6000\n",
      "GPU 개수: 2\n",
      "현재 사용 중인 디바이스 번호: 0\n"
     ]
    }
   ],
   "source": [
    "import torch\n",
    "\n",
    "print(f\"PyTorch 버전: {torch.__version__}\")\n",
    "print(f\"CUDA 사용 가능 여부: {torch.cuda.is_available()}\")\n",
    "if torch.cuda.is_available():\n",
    "    print(f\"CUDA 버전: {torch.version.cuda}\")\n",
    "    print(f\"GPU 이름: {torch.cuda.get_device_name(0)}\")\n",
    "    print(f\"GPU 개수: {torch.cuda.device_count()}\")\n",
    "    print(f\"현재 사용 중인 디바이스 번호: {torch.cuda.current_device()}\")\n",
    "else:\n",
    "    print(\"CUDA를 사용할 수 없습니다.\")"
   ]
  },
  {
   "cell_type": "code",
   "execution_count": 3,
   "id": "985977c7-9553-48aa-b4ab-c435f6432670",
   "metadata": {},
   "outputs": [
    {
     "data": {
      "text/html": [
       "<div>\n",
       "<style scoped>\n",
       "    .dataframe tbody tr th:only-of-type {\n",
       "        vertical-align: middle;\n",
       "    }\n",
       "\n",
       "    .dataframe tbody tr th {\n",
       "        vertical-align: top;\n",
       "    }\n",
       "\n",
       "    .dataframe thead th {\n",
       "        text-align: right;\n",
       "    }\n",
       "</style>\n",
       "<table border=\"1\" class=\"dataframe\">\n",
       "  <thead>\n",
       "    <tr style=\"text-align: right;\">\n",
       "      <th></th>\n",
       "      <th>path</th>\n",
       "      <th>label</th>\n",
       "      <th>dataset</th>\n",
       "      <th>target</th>\n",
       "    </tr>\n",
       "  </thead>\n",
       "  <tbody>\n",
       "  </tbody>\n",
       "</table>\n",
       "</div>"
      ],
      "text/plain": [
       "Empty DataFrame\n",
       "Columns: [path, label, dataset, target]\n",
       "Index: []"
      ]
     },
     "execution_count": 3,
     "metadata": {},
     "output_type": "execute_result"
    }
   ],
   "source": [
    "import os\n",
    "import pandas as pd\n",
    "\n",
    "data_path = \"/home/hknu/mnt/kjh/sorted_faces_a\" # 데이터 경로 작성하면 됨.\n",
    "paths= []\n",
    "labels = []\n",
    "datasets = []\n",
    "#ㅁ\n",
    "for path, _, filenames in os.walk(data_path):\n",
    "    for filename in filenames:\n",
    "        if '.jpg' in filename:\n",
    "            file_path = path + '/' + filename\n",
    "            paths.append(file_path)\n",
    "\n",
    "            if '/drowsy' in file_path:\n",
    "                labels.append(\"drowsy\")\n",
    "            elif '/focused' in file_path:\n",
    "                labels.append('focused')\n",
    "            elif '/not_focused' in file_path:\n",
    "                labels.append('not_focused')\n",
    "            else:\n",
    "                labels.append('N/A')\n",
    "\n",
    "            if '/train' in file_path:\n",
    "                datasets.append('train')\n",
    "            elif '/validation' in file_path:\n",
    "                datasets.append('validation')\n",
    "\n",
    "data_df = pd.DataFrame({\"path\":paths, \"label\":labels, \"dataset\":datasets})\n",
    "label_mapping = {\"focused\":0, \"not_focused\":1, \"drowsy\":2}\n",
    "\n",
    "data_df[\"target\"] = data_df[\"label\"].map(label_mapping)\n",
    "data_df.head()\n"
   ]
  },
  {
   "cell_type": "code",
   "execution_count": 4,
   "id": "0335ec89-6397-4637-ab42-58a1002b4273",
   "metadata": {},
   "outputs": [
    {
     "name": "stdout",
     "output_type": "stream",
     "text": [
      "Focused: 0\n",
      "Not Focused: 0\n",
      "Drowsy: 0\n",
      "\n",
      "Total: 0\n"
     ]
    }
   ],
   "source": [
    "# 데이터 개수 확인\n",
    "focus_count = data_df[data_df[\"label\"]==\"focused\"][\"label\"].count()\n",
    "not_focus_count = data_df[data_df[\"label\"]==\"not_focused\"][\"label\"].count()\n",
    "drowsy_count = data_df[data_df[\"label\"]==\"drowsy\"][\"label\"].count()\n",
    "total_count = data_df[\"label\"].count() if (focus_count + not_focus_count + drowsy_count) == data_df[\"label\"].count() else \"error\"\n",
    "\n",
    "# 개수가 맞으면 total이 총합으로 나올 것이고, error가 출력된다면 결측값이 있다는 것이다.\n",
    "print(f\"Focused: {focus_count}\\nNot Focused: {not_focus_count}\\nDrowsy: {drowsy_count}\\n\\nTotal: {total_count}\")"
   ]
  },
  {
   "cell_type": "code",
   "execution_count": 8,
   "id": "87f2427d-d812-431f-84ee-1a055edd76b9",
   "metadata": {},
   "outputs": [
    {
     "name": "stdout",
     "output_type": "stream",
     "text": [
      "총 이미지 개수: 519476\n"
     ]
    },
    {
     "data": {
      "text/html": [
       "<div>\n",
       "<style scoped>\n",
       "    .dataframe tbody tr th:only-of-type {\n",
       "        vertical-align: middle;\n",
       "    }\n",
       "\n",
       "    .dataframe tbody tr th {\n",
       "        vertical-align: top;\n",
       "    }\n",
       "\n",
       "    .dataframe thead th {\n",
       "        text-align: right;\n",
       "    }\n",
       "</style>\n",
       "<table border=\"1\" class=\"dataframe\">\n",
       "  <thead>\n",
       "    <tr style=\"text-align: right;\">\n",
       "      <th></th>\n",
       "      <th>landmarks</th>\n",
       "      <th>path</th>\n",
       "    </tr>\n",
       "  </thead>\n",
       "  <tbody>\n",
       "    <tr>\n",
       "      <th>0</th>\n",
       "      <td>[[567, 317], [568, 294], [568, 301], [562, 268...</td>\n",
       "      <td>/home/hknu/mnt/kjh/sorted_faces_a/train/focuse...</td>\n",
       "    </tr>\n",
       "    <tr>\n",
       "      <th>1</th>\n",
       "      <td>[[556, 354], [557, 324], [557, 332], [553, 295...</td>\n",
       "      <td>/home/hknu/mnt/kjh/sorted_faces_a/train/focuse...</td>\n",
       "    </tr>\n",
       "    <tr>\n",
       "      <th>2</th>\n",
       "      <td>[[567, 318], [568, 295], [568, 302], [562, 269...</td>\n",
       "      <td>/home/hknu/mnt/kjh/sorted_faces_a/train/focuse...</td>\n",
       "    </tr>\n",
       "    <tr>\n",
       "      <th>3</th>\n",
       "      <td>[[554, 353], [556, 323], [556, 331], [552, 295...</td>\n",
       "      <td>/home/hknu/mnt/kjh/sorted_faces_a/train/focuse...</td>\n",
       "    </tr>\n",
       "    <tr>\n",
       "      <th>4</th>\n",
       "      <td>[[568, 310], [568, 284], [568, 293], [562, 259...</td>\n",
       "      <td>/home/hknu/mnt/kjh/sorted_faces_a/train/focuse...</td>\n",
       "    </tr>\n",
       "  </tbody>\n",
       "</table>\n",
       "</div>"
      ],
      "text/plain": [
       "                                           landmarks  \\\n",
       "0  [[567, 317], [568, 294], [568, 301], [562, 268...   \n",
       "1  [[556, 354], [557, 324], [557, 332], [553, 295...   \n",
       "2  [[567, 318], [568, 295], [568, 302], [562, 269...   \n",
       "3  [[554, 353], [556, 323], [556, 331], [552, 295...   \n",
       "4  [[568, 310], [568, 284], [568, 293], [562, 259...   \n",
       "\n",
       "                                                path  \n",
       "0  /home/hknu/mnt/kjh/sorted_faces_a/train/focuse...  \n",
       "1  /home/hknu/mnt/kjh/sorted_faces_a/train/focuse...  \n",
       "2  /home/hknu/mnt/kjh/sorted_faces_a/train/focuse...  \n",
       "3  /home/hknu/mnt/kjh/sorted_faces_a/train/focuse...  \n",
       "4  /home/hknu/mnt/kjh/sorted_faces_a/train/focuse...  "
      ]
     },
     "execution_count": 8,
     "metadata": {},
     "output_type": "execute_result"
    }
   ],
   "source": [
    "import json\n",
    "\n",
    "json_path = \"/home/hknu/Zypt_Model/landmarks.json\"\n",
    "\n",
    "with open(json_path, 'r') as f:\n",
    "    data = json.load(f)\n",
    "\n",
    "image_count = len(data)  # 각 항목이 하나의 이미지에 해당\n",
    "\n",
    "# 리스트 → 데이터프레임\n",
    "landmark_df = pd.DataFrame(data)\n",
    "\n",
    "print(f\"총 이미지 개수: {image_count}\")\n",
    "landmark_df.head()"
   ]
  },
  {
   "cell_type": "code",
   "execution_count": 9,
   "id": "c538547a-11d3-4c3a-a97f-6447c3551e59",
   "metadata": {},
   "outputs": [
    {
     "data": {
      "text/html": [
       "<div>\n",
       "<style scoped>\n",
       "    .dataframe tbody tr th:only-of-type {\n",
       "        vertical-align: middle;\n",
       "    }\n",
       "\n",
       "    .dataframe tbody tr th {\n",
       "        vertical-align: top;\n",
       "    }\n",
       "\n",
       "    .dataframe thead th {\n",
       "        text-align: right;\n",
       "    }\n",
       "</style>\n",
       "<table border=\"1\" class=\"dataframe\">\n",
       "  <thead>\n",
       "    <tr style=\"text-align: right;\">\n",
       "      <th></th>\n",
       "      <th>path</th>\n",
       "      <th>label</th>\n",
       "      <th>dataset</th>\n",
       "      <th>target</th>\n",
       "      <th>landmarks</th>\n",
       "    </tr>\n",
       "  </thead>\n",
       "  <tbody>\n",
       "    <tr>\n",
       "      <th>0</th>\n",
       "      <td>/home/hknu/mnt/kjh/sorted_faces_a/train/focuse...</td>\n",
       "      <td>focused</td>\n",
       "      <td>train</td>\n",
       "      <td>0</td>\n",
       "      <td>[[567, 317], [568, 294], [568, 301], [562, 268...</td>\n",
       "    </tr>\n",
       "    <tr>\n",
       "      <th>1</th>\n",
       "      <td>/home/hknu/mnt/kjh/sorted_faces_a/train/focuse...</td>\n",
       "      <td>focused</td>\n",
       "      <td>train</td>\n",
       "      <td>0</td>\n",
       "      <td>[[556, 354], [557, 324], [557, 332], [553, 295...</td>\n",
       "    </tr>\n",
       "    <tr>\n",
       "      <th>2</th>\n",
       "      <td>/home/hknu/mnt/kjh/sorted_faces_a/train/focuse...</td>\n",
       "      <td>focused</td>\n",
       "      <td>train</td>\n",
       "      <td>0</td>\n",
       "      <td>[[567, 318], [568, 295], [568, 302], [562, 269...</td>\n",
       "    </tr>\n",
       "    <tr>\n",
       "      <th>3</th>\n",
       "      <td>/home/hknu/mnt/kjh/sorted_faces_a/train/focuse...</td>\n",
       "      <td>focused</td>\n",
       "      <td>train</td>\n",
       "      <td>0</td>\n",
       "      <td>[[554, 353], [556, 323], [556, 331], [552, 295...</td>\n",
       "    </tr>\n",
       "    <tr>\n",
       "      <th>4</th>\n",
       "      <td>/home/hknu/mnt/kjh/sorted_faces_a/train/focuse...</td>\n",
       "      <td>focused</td>\n",
       "      <td>train</td>\n",
       "      <td>0</td>\n",
       "      <td>[[568, 310], [568, 284], [568, 293], [562, 259...</td>\n",
       "    </tr>\n",
       "  </tbody>\n",
       "</table>\n",
       "</div>"
      ],
      "text/plain": [
       "                                                path    label dataset  target  \\\n",
       "0  /home/hknu/mnt/kjh/sorted_faces_a/train/focuse...  focused   train       0   \n",
       "1  /home/hknu/mnt/kjh/sorted_faces_a/train/focuse...  focused   train       0   \n",
       "2  /home/hknu/mnt/kjh/sorted_faces_a/train/focuse...  focused   train       0   \n",
       "3  /home/hknu/mnt/kjh/sorted_faces_a/train/focuse...  focused   train       0   \n",
       "4  /home/hknu/mnt/kjh/sorted_faces_a/train/focuse...  focused   train       0   \n",
       "\n",
       "                                           landmarks  \n",
       "0  [[567, 317], [568, 294], [568, 301], [562, 268...  \n",
       "1  [[556, 354], [557, 324], [557, 332], [553, 295...  \n",
       "2  [[567, 318], [568, 295], [568, 302], [562, 269...  \n",
       "3  [[554, 353], [556, 323], [556, 331], [552, 295...  \n",
       "4  [[568, 310], [568, 284], [568, 293], [562, 259...  "
      ]
     },
     "execution_count": 9,
     "metadata": {},
     "output_type": "execute_result"
    }
   ],
   "source": [
    "merged_df = pd.merge(data_df, landmark_df, on=\"path\", how=\"left\")\n",
    "merged_df = merged_df.dropna(subset=['landmarks'])\n",
    "merged_df.head()"
   ]
  },
  {
   "cell_type": "code",
   "execution_count": 10,
   "id": "426b4708-9eee-4bb3-a8f7-8e5512680f66",
   "metadata": {},
   "outputs": [
    {
     "data": {
      "text/plain": [
       "((379709, 5), (97836, 5), (41931, 5))"
      ]
     },
     "execution_count": 10,
     "metadata": {},
     "output_type": "execute_result"
    }
   ],
   "source": [
    "from sklearn.model_selection import train_test_split\n",
    "\n",
    "tr_df = merged_df[merged_df[\"dataset\"]==\"train\"]\n",
    "validation_df = merged_df[merged_df[\"dataset\"]==\"validation\"]\n",
    "val_df, test_df = train_test_split(validation_df, test_size=0.3, stratify=validation_df[\"target\"], random_state=2025)\n",
    "\n",
    "tr_df.shape, val_df.shape, test_df.shape"
   ]
  },
  {
   "cell_type": "markdown",
   "id": "70071959-14b3-4385-b3c8-63ac4ff25b1a",
   "metadata": {},
   "source": [
    "## DataLoader"
   ]
  },
  {
   "cell_type": "code",
   "execution_count": 11,
   "id": "57bd4bfe-e2d6-45f7-b964-85cd8b94af9f",
   "metadata": {},
   "outputs": [],
   "source": [
    "import torch\n",
    "from torch.utils.data import Dataset\n",
    "import cv2\n",
    "import numpy as np\n",
    "\n",
    "class FocusDataset(Dataset):\n",
    "    def __init__(self, image_paths, targets=None, landmarks=None, transform=None):\n",
    "        self.image_paths = image_paths\n",
    "        self.targets = targets\n",
    "        self.landmarks = landmarks\n",
    "        self.transform = transform\n",
    "\n",
    "        # 이미지 크기 (상수로 설정)\n",
    "        self.IMG_WIDTH = 1080\n",
    "        self.IMG_HEIGHT = 720\n",
    "\n",
    "    def __len__(self):\n",
    "        return len(self.image_paths)\n",
    "\n",
    "    def normalize_landmarks(self, landmarks):\n",
    "        landmarks = np.array(landmarks, dtype=np.float32)\n",
    "        landmarks[:, 0] /= self.IMG_WIDTH\n",
    "        landmarks[:, 1] /= self.IMG_HEIGHT\n",
    "        return landmarks\n",
    "\n",
    "    def __getitem__(self, idx):\n",
    "        # 랜드마크 정규화 및 텐서 변환\n",
    "        landmark = None\n",
    "        if self.landmarks is not None:\n",
    "            landmark = self.normalize_landmarks(self.landmarks.iloc[idx])\n",
    "            landmark = torch.tensor(landmark, dtype=torch.float32)  # (468, 2)\n",
    "\n",
    "        if self.targets is not None:\n",
    "            target = torch.tensor(self.targets[idx])\n",
    "            return landmark, target\n",
    "\n",
    "        return landmark\n"
   ]
  },
  {
   "cell_type": "code",
   "execution_count": 12,
   "id": "e2d50d4d-501f-49c6-b867-88b6d6daa35e",
   "metadata": {},
   "outputs": [
    {
     "name": "stderr",
     "output_type": "stream",
     "text": [
      "/home/hknu/.local/lib/python3.10/site-packages/tqdm/auto.py:21: TqdmWarning: IProgress not found. Please update jupyter and ipywidgets. See https://ipywidgets.readthedocs.io/en/stable/user_install.html\n",
      "  from .autonotebook import tqdm as notebook_tqdm\n"
     ]
    }
   ],
   "source": [
    "import albumentations as A\n",
    "from albumentations.pytorch import ToTensorV2\n",
    "from torch.utils.data import DataLoader\n",
    "\n",
    "IMG_SIZE = 224\n",
    "IMG_MEANS = [0.485, 0.456, 0.406]\n",
    "IMG_STD = [0.229, 0.224, 0.225]\n",
    "BATCH_SIZE = 256\n",
    "\n",
    "# tr_transform = A.Compose([\n",
    "#     A.RandomResizedCrop(size=(IMG_SIZE, IMG_SIZE), scale=(0.7, 1.0), ratio=(0.8, 1.2)),\n",
    "#     A.HorizontalFlip(p=0.5),\n",
    "#     A.ColorJitter(0.3, 0.3, 0.3, 0.1),\n",
    "#     A.MotionBlur(p=0.2),\n",
    "#     A.GaussNoise(p=0.3),\n",
    "#     A.RandomBrightnessContrast(p=0.2),\n",
    "#     A.Normalize(),\n",
    "#     ToTensorV2()\n",
    "# ])\n",
    "\n",
    "tr_transform = A.Compose([\n",
    "    A.Resize(IMG_SIZE, IMG_SIZE),\n",
    "    A.Affine(translate_percent=0.0625, scale=(0.9, 1.1), rotate=(-15, 15), p=0.5),\n",
    "    A.RandomBrightnessContrast(p=0.3),\n",
    "    A.CLAHE(p=0.1),\n",
    "    A.Normalize(mean=IMG_MEANS, std=IMG_STD),\n",
    "    ToTensorV2()\n",
    "])\n",
    "\n",
    "# tr_transform = A.Compose([\n",
    "#     A.Resize(IMG_SIZE, IMG_SIZE),\n",
    "#     A.HorizontalFlip(p=0.5),\n",
    "#     A.Normalize(mean=IMG_MEANS, std=IMG_STD),\n",
    "#     ToTensorV2()\n",
    "# ])\n",
    "\n",
    "val_transform = A.Compose([\n",
    "    A.Resize(IMG_SIZE, IMG_SIZE),\n",
    "    A.Normalize(mean=IMG_MEANS, std=IMG_STD),\n",
    "    ToTensorV2()\n",
    "])\n",
    "\n",
    "def create_tr_val_loader(tr_df, val_df, tr_transform, val_transform):\n",
    "    tr_dataset = FocusDataset(image_paths=tr_df[\"path\"].to_list(), targets=tr_df[\"target\"].to_list(),\n",
    "                              landmarks=tr_df[\"landmarks\"], transform=tr_transform)\n",
    "    tr_loader = DataLoader(tr_dataset, batch_size=BATCH_SIZE, shuffle=True, num_workers=4, pin_memory=True)\n",
    "    if val_df is not None:\n",
    "        val_dataset = FocusDataset(image_paths=val_df[\"path\"].to_list(), targets=val_df[\"target\"].to_list(), \n",
    "                                   landmarks=val_df[\"landmarks\"], transform=val_transform)\n",
    "        val_loader = DataLoader(val_dataset, batch_size=BATCH_SIZE, shuffle=False, num_workers=4, pin_memory=True)\n",
    "\n",
    "        return tr_loader, val_loader\n",
    "    \n",
    "    return tr_loader, None\n",
    "\n",
    "tr_loader, val_loader = create_tr_val_loader(tr_df, val_df, tr_transform, val_transform)\n"
   ]
  },
  {
   "cell_type": "code",
   "execution_count": 13,
   "id": "ecffe3f5-980c-4627-afa9-dc3d406d1501",
   "metadata": {},
   "outputs": [
    {
     "name": "stdout",
     "output_type": "stream",
     "text": [
      "torch.Size([256, 468, 2]) torch.Size([256])\n"
     ]
    }
   ],
   "source": [
    "landmarks, targets = next(iter(tr_loader))\n",
    "print(landmarks.shape, targets.shape)"
   ]
  },
  {
   "cell_type": "markdown",
   "id": "70709bfd-56c3-4b39-a078-4b1d186e89af",
   "metadata": {},
   "source": [
    "## Model"
   ]
  },
  {
   "cell_type": "code",
   "execution_count": 14,
   "id": "a976ef9b-b757-484a-bc42-f55735dcb9ff",
   "metadata": {},
   "outputs": [],
   "source": [
    "import torch\n",
    "import torch.nn as nn\n",
    "import torch.nn.functional as F\n",
    "\n",
    "\n",
    "class SEBlock(nn.Module):\n",
    "    def __init__(self, channels, reduction=16):\n",
    "        super().__init__()\n",
    "        self.se = nn.Sequential(\n",
    "            nn.AdaptiveAvgPool1d(1),\n",
    "            nn.Conv1d(channels, channels // reduction, 1),\n",
    "            nn.ReLU(inplace=True),\n",
    "            nn.Conv1d(channels // reduction, channels, 1),\n",
    "            nn.Sigmoid()\n",
    "        )\n",
    "\n",
    "    def forward(self, x):\n",
    "        scale = self.se(x)\n",
    "        return x * scale\n",
    "\n",
    "\n",
    "class ResidualBlock1D(nn.Module):\n",
    "    def __init__(self, in_channels, out_channels, kernel_size=3, stride=1, downsample=False):\n",
    "        super().__init__()\n",
    "        self.conv1 = nn.Conv1d(in_channels, out_channels, kernel_size, stride=stride, padding=1)\n",
    "        self.bn1 = nn.BatchNorm1d(out_channels)\n",
    "        self.act1 = nn.ReLU(inplace=True)\n",
    "\n",
    "        self.conv2 = nn.Conv1d(out_channels, out_channels, kernel_size, stride=1, padding=1)\n",
    "        self.bn2 = nn.BatchNorm1d(out_channels)\n",
    "        self.se = SEBlock(out_channels)\n",
    "\n",
    "        self.downsample = downsample\n",
    "        if downsample or in_channels != out_channels:\n",
    "            self.residual = nn.Sequential(\n",
    "                nn.Conv1d(in_channels, out_channels, 1, stride=stride),\n",
    "                nn.BatchNorm1d(out_channels)\n",
    "            )\n",
    "        else:\n",
    "            self.residual = nn.Identity()\n",
    "\n",
    "        self.act2 = nn.ReLU(inplace=True)\n",
    "\n",
    "    def forward(self, x):\n",
    "        identity = self.residual(x)\n",
    "        out = self.act1(self.bn1(self.conv1(x)))\n",
    "        out = self.se(self.bn2(self.conv2(out)))\n",
    "        out += identity\n",
    "        return self.act2(out)\n",
    "\n",
    "\n",
    "class Conv1DLandmarkEncoder(nn.Module):\n",
    "    def __init__(self, in_channels=2, out_dim=128, num_classes=3):\n",
    "        super().__init__()\n",
    "        self.encoder = nn.Sequential(\n",
    "            ResidualBlock1D(in_channels, 32, downsample=True),\n",
    "            ResidualBlock1D(32, 64, downsample=True),\n",
    "            ResidualBlock1D(64, 128, downsample=True),\n",
    "            nn.AdaptiveAvgPool1d(1),\n",
    "            nn.Flatten()\n",
    "        )\n",
    "\n",
    "        self.classifier = nn.Sequential(\n",
    "            nn.Linear(128, 64, bias=False),\n",
    "            nn.BatchNorm1d(64),\n",
    "            nn.Hardswish(),\n",
    "            nn.Dropout(0.5),\n",
    "            nn.Linear(64, num_classes)\n",
    "        )\n",
    "\n",
    "    def forward(self, x): \n",
    "        x = x.permute(0, 2, 1) \n",
    "        x = self.encoder(x)\n",
    "        return self.classifier(x)\n"
   ]
  },
  {
   "cell_type": "code",
   "execution_count": 15,
   "id": "5bccbab8-a148-415e-b39b-6d4c8d2f8bcb",
   "metadata": {},
   "outputs": [],
   "source": [
    "model = Conv1DLandmarkEncoder()"
   ]
  },
  {
   "cell_type": "markdown",
   "id": "0edad960-eb91-421c-a0b8-8dde1a38aac0",
   "metadata": {},
   "source": [
    "## Tr~~~"
   ]
  },
  {
   "cell_type": "code",
   "execution_count": 16,
   "id": "acf05e0a-9874-4856-b0c9-d7a16db84fbe",
   "metadata": {},
   "outputs": [],
   "source": [
    "from tqdm import tqdm\n",
    "import torch\n",
    "import torch.nn.functional as F\n",
    "\n",
    "class Trainer:\n",
    "    def __init__(self, model, loss_fn, optimizer, tr_loader, val_loader, scheduler=None, callbacks=None, metric=None, device=None):\n",
    "        self.model = model.to(device)\n",
    "        self.loss_fn = loss_fn\n",
    "        self.optimizer = optimizer\n",
    "        self.tr_loader = tr_loader\n",
    "        self.val_loader = val_loader\n",
    "        self.scheduler = scheduler\n",
    "        self.callbacks = callbacks\n",
    "        self.metric = metric.to(device)\n",
    "        self.device = device\n",
    "        self.current_lr = self.optimizer.param_groups[0]['lr']\n",
    "    \n",
    "    def train_epoch(self, epoch):\n",
    "        self.model.train()\n",
    "\n",
    "        accu_loss = 0.0\n",
    "\n",
    "        self.metric.reset()\n",
    "        with tqdm(total=len(self.tr_loader), desc=f\"Epoch {epoch+1} [Training..]\", leave=True) as progress_bar:\n",
    "            for batch_idx, (inputs, targets) in enumerate(self.tr_loader):\n",
    "                inputs = inputs.to(self.device)\n",
    "                targets = targets.to(self.device)\n",
    "\n",
    "                outputs = self.model(inputs)\n",
    "                loss = self.loss_fn(outputs, targets)\n",
    "\n",
    "                self.optimizer.zero_grad()\n",
    "                loss.backward()\n",
    "                self.optimizer.step()\n",
    "\n",
    "                accu_loss += loss.item()\n",
    "                running_avg_loss = accu_loss / (batch_idx + 1)\n",
    "\n",
    "                pred_proba = F.softmax(outputs, dim=-1)\n",
    "                self.metric.update(pred_proba, targets)\n",
    "\n",
    "                progress_bar.update(1)\n",
    "                if batch_idx % 20 == 0 or (batch_idx + 1) == progress_bar.total:\n",
    "                    progress_bar.set_postfix({\"Loss\": running_avg_loss,\n",
    "                                              \"Metric\": self.metric.compute().item()})  # 수정됨 (Metrix → Metric)\n",
    "\n",
    "\n",
    "        if self.scheduler is not None and not(isinstance(self.scheduler, torch.optim.lr_scheduler.ReduceLROnPlateau)):\n",
    "            self.scheduler.step()\n",
    "            self.current_lr = self.scheduler.get_last_lr()[0]\n",
    "        \n",
    "        return running_avg_loss, self.metric.compute().item()\n",
    "    \n",
    "    def valid_epoch(self, epoch):\n",
    "        if self.val_loader is None:\n",
    "            return None, None\n",
    "        \n",
    "        self.model.eval()\n",
    "        accu_loss = 0.0\n",
    "\n",
    "        self.metric.reset()\n",
    "        with torch.no_grad():  # 수정됨\n",
    "            with tqdm(total=len(self.val_loader), desc=f\"Epoch {epoch+1} [Validation]\", leave=True) as progress_bar:\n",
    "                for batch_idx, (inputs, targets) in enumerate(self.val_loader):\n",
    "                    inputs = inputs.to(self.device)\n",
    "                    targets = targets.to(self.device)\n",
    "\n",
    "                    outputs = self.model(inputs)\n",
    "\n",
    "                    loss = self.loss_fn(outputs, targets)\n",
    "                    accu_loss += loss.item()\n",
    "                    running_avg_loss = accu_loss / (batch_idx + 1)\n",
    "\n",
    "                    pred_proba = F.softmax(outputs, dim=-1)  # 수정됨: dim=-1 명시\n",
    "                    self.metric.update(pred_proba, targets)\n",
    "\n",
    "                    progress_bar.update(1)\n",
    "                    if batch_idx % 20 == 0 or (batch_idx + 1) == progress_bar.total:\n",
    "                        progress_bar.set_postfix({\"Loss\": running_avg_loss, \n",
    "                                                  \"Metric\": self.metric.compute().item()})  # 수정됨 (Metrix → Metric)\n",
    "\n",
    "        if isinstance(self.scheduler, torch.optim.lr_scheduler.ReduceLROnPlateau):\n",
    "            self.scheduler.step(running_avg_loss)\n",
    "            self.current_lr = self.scheduler.get_last_lr()[0]\n",
    "\n",
    "        return running_avg_loss, self.metric.compute().item()\n",
    "    \n",
    "    def fit(self, epochs):\n",
    "        history = {\"train_loss\" : [], \"train_metric\" : [], \"val_loss\" : [], \"val_metric\" : [], \"lr\" : []}\n",
    "        for epoch in range(epochs):\n",
    "            train_loss, train_metric = self.train_epoch(epoch)\n",
    "            val_loss, val_metric = self.valid_epoch(epoch)\n",
    "            print(f\"Epoch {epoch+1}/{epochs}, Train Loss: {train_loss:.4f} Train Metric: {train_metric:.4f}\",\n",
    "                  f\", Val Loss: {val_loss:.4f} Val Metric: {val_metric:.4f}\" if val_loss is not None else \"\",\n",
    "                  f\", Current lr: {self.current_lr:.6f}\")\n",
    "            history[\"train_loss\"].append(train_loss); history[\"train_metric\"].append(train_metric)\n",
    "            history[\"val_loss\"].append(val_loss); history[\"val_metric\"].append(val_metric)\n",
    "            history[\"lr\"].append(self.current_lr)\n",
    "        \n",
    "            if self.callbacks:\n",
    "                is_epoch_loop_break = self._execute_callbacks(self.callbacks, self.model, epoch, val_loss, val_metric)\n",
    "                if is_epoch_loop_break:\n",
    "                    break\n",
    "\n",
    "        return history\n",
    "    \n",
    "    def _execute_callbacks(self, callbacks, model, epoch, val_loss, val_metric):\n",
    "        is_epoch_loop_break = False\n",
    "\n",
    "        for callback in self.callbacks:\n",
    "            if isinstance(callback, ModelCheckpoint):\n",
    "                if callback.monitor == 'val_loss':\n",
    "                    callback.save(model, epoch, val_loss)\n",
    "                elif callback.monitor == 'val_metric':\n",
    "                    callback.save(model, epoch, val_metric)\n",
    "\n",
    "            if isinstance(callback, EarlyStopping):\n",
    "                if callback.monitor == 'val_loss':\n",
    "                    is_epoch_loop_break = callback.check_early_stop(val_loss)\n",
    "                elif callback.monitor == 'val_metric':\n",
    "                    is_epoch_loop_break = callback.check_early_stop(val_metric)\n",
    "\n",
    "        return is_epoch_loop_break\n",
    "    \n",
    "    def get_trained_model(self):\n",
    "        return self.model\n"
   ]
  },
  {
   "cell_type": "code",
   "execution_count": 17,
   "id": "ac845dcc-af6e-4798-a822-81d68334d05e",
   "metadata": {},
   "outputs": [],
   "source": [
    "class Predictor:\n",
    "    def __init__(self, model, device):\n",
    "        self.model = model.to(device)\n",
    "        self.device = device\n",
    "\n",
    "    def evaluate(self, loader):\n",
    "        # 현재 입력으로 들어온 데이터의 batch 통계(mean, variance)를 사용하지 않고, 학습 시 계산된 running 통계값을 사용\n",
    "        self.model.eval()\n",
    "        eval_metric = 0.0\n",
    "        # 정확도 계산을 위한 전체 건수 및 누적 정확건수\n",
    "        num_total = 0.0\n",
    "        accu_num_correct = 0.0\n",
    "\n",
    "        with tqdm(total=len(loader), desc=f\"[Evaluating]\", leave=True) as progress_bar:\n",
    "            with torch.no_grad():\n",
    "                for batch_idx, (inputs, targets) in enumerate(loader):\n",
    "                    inputs = inputs.to(self.device)\n",
    "                    targets = targets.to(self.device)\n",
    "                    pred = self.model(inputs)\n",
    "\n",
    "                    # 정확도 계산을 위해 누적 전체 건수와 누적 전체 num_correct 건수 계산  \n",
    "                    num_correct = (pred.argmax(-1) == targets).sum().item()\n",
    "                    num_total += inputs.shape[0]\n",
    "                    accu_num_correct += num_correct\n",
    "                    eval_metric = accu_num_correct / num_total\n",
    "\n",
    "                    progress_bar.update(1)\n",
    "                    if batch_idx % 20 == 0 or (batch_idx + 1) == progress_bar.total:\n",
    "                        progress_bar.set_postfix({\"Accuracy\": eval_metric})\n",
    "        \n",
    "        return eval_metric\n",
    "\n",
    "    def predict_proba(self, inputs):\n",
    "        self.model.eval()\n",
    "        with torch.no_grad():\n",
    "            inputs = inputs.to(self.device)\n",
    "            outputs = self.model(inputs)\n",
    "            #예측값을 반환하므로 targets은 필요 없음.\n",
    "            #targets = targets.to(self.device)\n",
    "            pred_proba = F.softmax(outputs, dim=-1) #또는 dim=1\n",
    "\n",
    "        return pred_proba\n",
    "\n",
    "    def predict(self, inputs):\n",
    "        pred_proba = self.predict_proba(inputs)\n",
    "        pred_class = torch.argmax(pred_proba, dim=-1)\n",
    "\n",
    "        return pred_class"
   ]
  },
  {
   "cell_type": "code",
   "execution_count": 18,
   "id": "72ec39fd-20e9-43fa-81a0-bbcc87f2eadd",
   "metadata": {},
   "outputs": [],
   "source": [
    "import os\n",
    "import torch\n",
    "\n",
    "class ModelCheckpoint:\n",
    "    def __init__(self, checkpoint_dir='checkpoints', monitor='val_loss', mode='min', save_interval=1, verbose=1):\n",
    "        self.checkpoint_dir = checkpoint_dir\n",
    "        self.monitor = monitor\n",
    "        self.mode = mode\n",
    "        self.best_value = float('inf') if mode == 'min' else -float('inf')\n",
    "        self.verbose = verbose\n",
    "        self.save_interval = save_interval\n",
    "        self._make_checkpoint_dir_unless()\n",
    "\n",
    "    def _make_checkpoint_dir_unless(self):\n",
    "        if not os.path.exists(self.checkpoint_dir):\n",
    "            os.makedirs(self.checkpoint_dir)\n",
    "    \n",
    "    # mode 유형에 따라 metric value값이 이전 epoch시 보다 향상 되었는지 확인하여 True/False 값 return\n",
    "    def is_improvement(self, value):\n",
    "        if self.mode == 'min':\n",
    "            return value < self.best_value\n",
    "        else:\n",
    "            return value > self.best_value\n",
    "\n",
    "    # self.best_value값 update, is_improvement() 반환값이 True인 경우만 수행. \n",
    "    def update_best_value(self, value):\n",
    "        self.best_value = value\n",
    "\n",
    "    def save(self, model, epoch, value):\n",
    "        if self.save_interval == 1:\n",
    "            if self.is_improvement(value):\n",
    "                self._checkpoint_save(model, epoch, value)\n",
    "                self.update_best_value(value)\n",
    "            \n",
    "        elif self.save_interval > 1:\n",
    "            if (epoch + 1) % self.save_interval == 0:\n",
    "                self._checkpoint_save(model, epoch, value)\n",
    "            \n",
    "    def _checkpoint_save(self, model, epoch, value):\n",
    "        checkpoint_path = os.path.join(self.checkpoint_dir, \n",
    "                                       f'checkpoint_epoch_{epoch+1}_{self.monitor}_{value:.4f}.pt')\n",
    "        torch.save(model.state_dict(), checkpoint_path)\n",
    "        if self.verbose:\n",
    "            print(f\"Saved model checkpoint at {checkpoint_path}\")"
   ]
  },
  {
   "cell_type": "code",
   "execution_count": 19,
   "id": "87f30344-194d-47dc-a13c-dcd8cc60bab1",
   "metadata": {},
   "outputs": [],
   "source": [
    "class EarlyStopping:\n",
    "    def __init__(self, monitor='val_loss', mode='min', early_patience=5, verbose=1):\n",
    "        self.monitor = monitor\n",
    "        self.mode = mode\n",
    "        self.early_patience = early_patience\n",
    "        self.verbose = verbose\n",
    "        self.best_value = float('inf') if mode == 'min' else -float('inf')\n",
    "        self.counter = 0\n",
    "\n",
    "    def is_improvement(self, value):\n",
    "        if self.mode == 'min':\n",
    "            return value < self.best_value\n",
    "        else:\n",
    "            return value > self.best_value\n",
    "\n",
    "    def check_early_stop(self, value):\n",
    "        is_early_stopped = False\n",
    "        \n",
    "        if self.is_improvement(value):\n",
    "            self.best_value = value\n",
    "            self.counter = 0\n",
    "            is_early_stopped =False\n",
    "        else:\n",
    "            self.counter += 1\n",
    "            if self.verbose:\n",
    "                print(f\"EarlyStopping counter: {self.counter}/{self.early_patience}\")\n",
    "            if self.counter >= self.early_patience:\n",
    "                is_early_stopped = True\n",
    "                if self.verbose:\n",
    "                    print(\"Early stopping happens and train stops\")\n",
    "        \n",
    "        return is_early_stopped\n",
    "        "
   ]
  },
  {
   "cell_type": "markdown",
   "id": "1a61b3bf-63c4-469c-9069-02ca6f55dd7a",
   "metadata": {},
   "source": [
    "## Training"
   ]
  },
  {
   "cell_type": "code",
   "execution_count": 20,
   "id": "672599f2-cc05-4963-af8a-f6e19dcdfd4c",
   "metadata": {},
   "outputs": [],
   "source": [
    "import torch.optim as optim\n",
    "from torch.optim import Adam, AdamW\n",
    "\n",
    "def train_focus(model, tr_df, val_df, tr_transform, val_transform, \n",
    "                metric=None, learning_rate=1e-3, lr_scheduler_fn=None, \n",
    "                callbacks=None, epochs=30):\n",
    "    tr_loader, val_loader = create_tr_val_loader(tr_df=tr_df, val_df=val_df, \n",
    "                                                 tr_transform=tr_transform, val_transform=val_transform)\n",
    "    device = torch.device('cuda' if torch.cuda.is_available() else 'cpu')\n",
    "    optimizer = Adam(model.parameters(), lr=learning_rate)\n",
    "    loss_fn = nn.CrossEntropyLoss(label_smoothing=0.1)\n",
    "    scheduler = lr_scheduler_fn(optimizer)\n",
    "\n",
    "    trainer = Trainer(model=model, loss_fn=loss_fn, optimizer=optimizer, \n",
    "                      tr_loader=tr_loader, val_loader=val_loader, scheduler=scheduler, callbacks=callbacks,\n",
    "                      metric=metric, device=device)\n",
    "    history = trainer.fit(epochs)\n",
    "\n",
    "    return trainer, history"
   ]
  },
  {
   "cell_type": "code",
   "execution_count": 21,
   "id": "c50a2de5-579b-4b23-8bda-d5eb6b5bd312",
   "metadata": {},
   "outputs": [
    {
     "name": "stderr",
     "output_type": "stream",
     "text": [
      "Epoch 1 [Training..]: 100%|██████████| 1484/1484 [01:12<00:00, 20.46it/s, Loss=0.586, Metric=0.835]\n",
      "Epoch 1 [Validation]: 100%|██████████| 383/383 [00:21<00:00, 18.20it/s, Loss=0.707, Metric=0.833]\n"
     ]
    },
    {
     "name": "stdout",
     "output_type": "stream",
     "text": [
      "Epoch 1/30, Train Loss: 0.5856 Train Metric: 0.8345 , Val Loss: 0.7069 Val Metric: 0.8328 , Current lr: 0.000976\n",
      "Saved model checkpoint at /home/hknu/Zypt_Model/landmark_model/checkpoint_epoch_1_val_metric_0.8328.pt\n"
     ]
    },
    {
     "name": "stderr",
     "output_type": "stream",
     "text": [
      "Epoch 2 [Training..]: 100%|██████████| 1484/1484 [01:08<00:00, 21.59it/s, Loss=0.407, Metric=0.945]\n",
      "Epoch 2 [Validation]: 100%|██████████| 383/383 [00:21<00:00, 17.97it/s, Loss=0.451, Metric=0.921]\n"
     ]
    },
    {
     "name": "stdout",
     "output_type": "stream",
     "text": [
      "Epoch 2/30, Train Loss: 0.4074 Train Metric: 0.9452 , Val Loss: 0.4506 Val Metric: 0.9214 , Current lr: 0.000905\n",
      "Saved model checkpoint at /home/hknu/Zypt_Model/landmark_model/checkpoint_epoch_2_val_metric_0.9214.pt\n"
     ]
    },
    {
     "name": "stderr",
     "output_type": "stream",
     "text": [
      "Epoch 3 [Training..]: 100%|██████████| 1484/1484 [01:09<00:00, 21.45it/s, Loss=0.38, Metric=0.958] \n",
      "Epoch 3 [Validation]: 100%|██████████| 383/383 [00:20<00:00, 18.66it/s, Loss=0.516, Metric=0.88] \n"
     ]
    },
    {
     "name": "stdout",
     "output_type": "stream",
     "text": [
      "Epoch 3/30, Train Loss: 0.3801 Train Metric: 0.9583 , Val Loss: 0.5160 Val Metric: 0.8798 , Current lr: 0.000796\n",
      "EarlyStopping counter: 1/5\n"
     ]
    },
    {
     "name": "stderr",
     "output_type": "stream",
     "text": [
      "Epoch 4 [Training..]: 100%|██████████| 1484/1484 [01:10<00:00, 20.94it/s, Loss=0.372, Metric=0.963]\n",
      "Epoch 4 [Validation]: 100%|██████████| 383/383 [00:22<00:00, 16.99it/s, Loss=0.545, Metric=0.876]\n"
     ]
    },
    {
     "name": "stdout",
     "output_type": "stream",
     "text": [
      "Epoch 4/30, Train Loss: 0.3718 Train Metric: 0.9625 , Val Loss: 0.5447 Val Metric: 0.8763 , Current lr: 0.000658\n",
      "EarlyStopping counter: 2/5\n"
     ]
    },
    {
     "name": "stderr",
     "output_type": "stream",
     "text": [
      "Epoch 5 [Training..]: 100%|██████████| 1484/1484 [01:24<00:00, 17.52it/s, Loss=0.364, Metric=0.967]\n",
      "Epoch 5 [Validation]: 100%|██████████| 383/383 [00:22<00:00, 16.79it/s, Loss=0.939, Metric=0.687]\n"
     ]
    },
    {
     "name": "stdout",
     "output_type": "stream",
     "text": [
      "Epoch 5/30, Train Loss: 0.3642 Train Metric: 0.9668 , Val Loss: 0.9394 Val Metric: 0.6866 , Current lr: 0.000505\n",
      "EarlyStopping counter: 3/5\n"
     ]
    },
    {
     "name": "stderr",
     "output_type": "stream",
     "text": [
      "Epoch 6 [Training..]: 100%|██████████| 1484/1484 [01:11<00:00, 20.82it/s, Loss=0.359, Metric=0.969]\n",
      "Epoch 6 [Validation]: 100%|██████████| 383/383 [00:20<00:00, 18.37it/s, Loss=0.467, Metric=0.906]\n"
     ]
    },
    {
     "name": "stdout",
     "output_type": "stream",
     "text": [
      "Epoch 6/30, Train Loss: 0.3591 Train Metric: 0.9693 , Val Loss: 0.4673 Val Metric: 0.9059 , Current lr: 0.000352\n",
      "EarlyStopping counter: 4/5\n"
     ]
    },
    {
     "name": "stderr",
     "output_type": "stream",
     "text": [
      "Epoch 7 [Training..]: 100%|██████████| 1484/1484 [01:14<00:00, 19.97it/s, Loss=0.354, Metric=0.973]\n",
      "Epoch 7 [Validation]: 100%|██████████| 383/383 [00:21<00:00, 18.04it/s, Loss=0.411, Metric=0.936]\n"
     ]
    },
    {
     "name": "stdout",
     "output_type": "stream",
     "text": [
      "Epoch 7/30, Train Loss: 0.3537 Train Metric: 0.9726 , Val Loss: 0.4110 Val Metric: 0.9362 , Current lr: 0.000214\n",
      "Saved model checkpoint at /home/hknu/Zypt_Model/landmark_model/checkpoint_epoch_7_val_metric_0.9362.pt\n"
     ]
    },
    {
     "name": "stderr",
     "output_type": "stream",
     "text": [
      "Epoch 8 [Training..]: 100%|██████████| 1484/1484 [01:14<00:00, 19.98it/s, Loss=0.349, Metric=0.975]\n",
      "Epoch 8 [Validation]: 100%|██████████| 383/383 [00:20<00:00, 18.35it/s, Loss=0.436, Metric=0.925]\n"
     ]
    },
    {
     "name": "stdout",
     "output_type": "stream",
     "text": [
      "Epoch 8/30, Train Loss: 0.3487 Train Metric: 0.9750 , Val Loss: 0.4360 Val Metric: 0.9252 , Current lr: 0.000105\n",
      "EarlyStopping counter: 1/5\n"
     ]
    },
    {
     "name": "stderr",
     "output_type": "stream",
     "text": [
      "Epoch 9 [Training..]: 100%|██████████| 1484/1484 [01:14<00:00, 19.88it/s, Loss=0.345, Metric=0.978]\n",
      "Epoch 9 [Validation]: 100%|██████████| 383/383 [00:21<00:00, 17.53it/s, Loss=0.402, Metric=0.942]\n"
     ]
    },
    {
     "name": "stdout",
     "output_type": "stream",
     "text": [
      "Epoch 9/30, Train Loss: 0.3446 Train Metric: 0.9775 , Val Loss: 0.4020 Val Metric: 0.9422 , Current lr: 0.000034\n",
      "Saved model checkpoint at /home/hknu/Zypt_Model/landmark_model/checkpoint_epoch_9_val_metric_0.9422.pt\n"
     ]
    },
    {
     "name": "stderr",
     "output_type": "stream",
     "text": [
      "Epoch 10 [Training..]: 100%|██████████| 1484/1484 [01:12<00:00, 20.51it/s, Loss=0.342, Metric=0.979]\n",
      "Epoch 10 [Validation]: 100%|██████████| 383/383 [00:21<00:00, 17.75it/s, Loss=0.405, Metric=0.941]\n"
     ]
    },
    {
     "name": "stdout",
     "output_type": "stream",
     "text": [
      "Epoch 10/30, Train Loss: 0.3418 Train Metric: 0.9789 , Val Loss: 0.4047 Val Metric: 0.9410 , Current lr: 0.000010\n",
      "EarlyStopping counter: 1/5\n"
     ]
    },
    {
     "name": "stderr",
     "output_type": "stream",
     "text": [
      "Epoch 11 [Training..]: 100%|██████████| 1484/1484 [01:12<00:00, 20.45it/s, Loss=0.341, Metric=0.98]\n",
      "Epoch 11 [Validation]: 100%|██████████| 383/383 [00:22<00:00, 16.75it/s, Loss=0.41, Metric=0.939] \n"
     ]
    },
    {
     "name": "stdout",
     "output_type": "stream",
     "text": [
      "Epoch 11/30, Train Loss: 0.3406 Train Metric: 0.9797 , Val Loss: 0.4098 Val Metric: 0.9387 , Current lr: 0.000034\n",
      "EarlyStopping counter: 2/5\n"
     ]
    },
    {
     "name": "stderr",
     "output_type": "stream",
     "text": [
      "Epoch 12 [Training..]: 100%|██████████| 1484/1484 [01:14<00:00, 19.80it/s, Loss=0.341, Metric=0.98] \n",
      "Epoch 12 [Validation]: 100%|██████████| 383/383 [00:21<00:00, 17.81it/s, Loss=0.421, Metric=0.934]\n"
     ]
    },
    {
     "name": "stdout",
     "output_type": "stream",
     "text": [
      "Epoch 12/30, Train Loss: 0.3409 Train Metric: 0.9795 , Val Loss: 0.4210 Val Metric: 0.9337 , Current lr: 0.000105\n",
      "EarlyStopping counter: 3/5\n"
     ]
    },
    {
     "name": "stderr",
     "output_type": "stream",
     "text": [
      "Epoch 13 [Training..]: 100%|██████████| 1484/1484 [01:14<00:00, 20.03it/s, Loss=0.343, Metric=0.978]\n",
      "Epoch 13 [Validation]: 100%|██████████| 383/383 [00:21<00:00, 17.57it/s, Loss=0.404, Metric=0.941]\n"
     ]
    },
    {
     "name": "stdout",
     "output_type": "stream",
     "text": [
      "Epoch 13/30, Train Loss: 0.3427 Train Metric: 0.9785 , Val Loss: 0.4040 Val Metric: 0.9411 , Current lr: 0.000214\n",
      "EarlyStopping counter: 4/5\n"
     ]
    },
    {
     "name": "stderr",
     "output_type": "stream",
     "text": [
      "Epoch 14 [Training..]: 100%|██████████| 1484/1484 [01:11<00:00, 20.84it/s, Loss=0.345, Metric=0.977]\n",
      "Epoch 14 [Validation]: 100%|██████████| 383/383 [00:22<00:00, 17.18it/s, Loss=0.412, Metric=0.938]"
     ]
    },
    {
     "name": "stdout",
     "output_type": "stream",
     "text": [
      "Epoch 14/30, Train Loss: 0.3448 Train Metric: 0.9774 , Val Loss: 0.4121 Val Metric: 0.9380 , Current lr: 0.000352\n",
      "EarlyStopping counter: 5/5\n",
      "Early stopping happens and train stops\n"
     ]
    },
    {
     "name": "stderr",
     "output_type": "stream",
     "text": [
      "\n"
     ]
    }
   ],
   "source": [
    "from torchmetrics.classification import AUROC, Accuracy, F1Score\n",
    "\n",
    "acu_metric = Accuracy(task='multiclass', num_classes=3)\n",
    "f1_score = F1Score(task='multiclass', num_classes=3, average='macro')\n",
    "\n",
    "def get_reduce_lr_scheduler(optimizer):\n",
    "    lr_scheduler = optim.lr_scheduler.ReduceLROnPlateau(optimizer=optimizer, mode=\"min\", factor=0.2, patience=2, threshold=0.01, min_lr=1e-6)\n",
    "    \n",
    "    return lr_scheduler\n",
    "\n",
    "def get_cosine_annealing_lr(optimizer):\n",
    "    scheduler = torch.optim.lr_scheduler.CosineAnnealingLR(optimizer=optimizer, T_max=10, eta_min=1e-5)\n",
    "\n",
    "    return scheduler\n",
    "\n",
    "model_checkpoint = ModelCheckpoint('/home/hknu/Zypt_Model/landmark_model', monitor='val_metric', mode='max') # 체크포인트 위치 변경.\n",
    "early_stopping = EarlyStopping(monitor='val_metric', mode='max', early_patience=5, verbose=1)\n",
    "trainer_mobilenetv3_s_100, history = train_focus(model, tr_df=tr_df, val_df=val_df,\n",
    "                                  tr_transform=tr_transform, val_transform=val_transform,\n",
    "                                  metric=acu_metric, learning_rate=1e-3, \n",
    "                                  lr_scheduler_fn=get_cosine_annealing_lr, callbacks=[model_checkpoint, early_stopping], \n",
    "                                  epochs=30)\n"
   ]
  },
  {
   "cell_type": "markdown",
   "id": "bb8c59b4-ff20-4022-ae54-6b849a93b2ca",
   "metadata": {},
   "source": [
    "## 평가"
   ]
  },
  {
   "cell_type": "code",
   "execution_count": 22,
   "id": "6fc71a07-6634-4cff-81c3-388d4b20498e",
   "metadata": {},
   "outputs": [
    {
     "data": {
      "image/png": "[encoded data removed]",
      "text/plain": [
       "<Figure size 1200x500 with 2 Axes>"
      ]
     },
     "metadata": {},
     "output_type": "display_data"
    }
   ],
   "source": [
    "import matplotlib.pyplot as plt\n",
    "\n",
    "# Metric 시각화\n",
    "plt.figure(figsize=(12, 5))\n",
    "\n",
    "plt.subplot(1, 2, 1)\n",
    "plt.plot(history['train_metric'], label='Train Metric')\n",
    "plt.plot(history['val_metric'], label='Val Metric')\n",
    "plt.title('Epoch vs Metric')\n",
    "plt.xlabel('Epoch')\n",
    "plt.ylabel('Metric')\n",
    "plt.legend()\n",
    "\n",
    "# 손실 시각화\n",
    "plt.subplot(1, 2, 2)\n",
    "plt.plot(history['train_loss'], label='Train Loss')\n",
    "plt.plot(history['val_loss'], label='Val Loss')\n",
    "plt.title('Epoch vs Loss')\n",
    "plt.xlabel('Epoch')\n",
    "plt.ylabel('Loss')\n",
    "plt.legend()\n",
    "\n",
    "plt.tight_layout()\n",
    "plt.show()"
   ]
  },
  {
   "cell_type": "code",
   "execution_count": 24,
   "id": "d4894625-beb6-4973-8e60-f5fa8ff22351",
   "metadata": {},
   "outputs": [],
   "source": [
    "def evaluate_model(model, dataloader, device):\n",
    "    model.eval()\n",
    "    all_preds = []\n",
    "    all_labels = []\n",
    "\n",
    "    with torch.no_grad():\n",
    "        for images, labels in dataloader:\n",
    "            images = images.to(device)\n",
    "            labels = labels.to(device)\n",
    "\n",
    "            outputs = model(images)\n",
    "            _, preds = torch.max(outputs, 1)\n",
    "\n",
    "            all_preds.extend(preds.cpu().numpy())\n",
    "            all_labels.extend(labels.cpu().numpy())\n",
    "\n",
    "    return np.array(all_preds), np.array(all_labels)\n"
   ]
  },
  {
   "cell_type": "code",
   "execution_count": 25,
   "id": "ce40e02d-696f-43a0-a002-f309f2a91666",
   "metadata": {},
   "outputs": [],
   "source": [
    "from sklearn.metrics import confusion_matrix, ConfusionMatrixDisplay\n",
    "import seaborn as sns\n",
    "\n",
    "def plot_confusion_matrix(y_true, y_pred, class_names):\n",
    "    cm = confusion_matrix(y_true, y_pred)\n",
    "    \n",
    "    plt.figure(figsize=(6, 5))\n",
    "    sns.heatmap(cm, annot=True, fmt='d', cmap='Blues',\n",
    "                xticklabels=class_names, yticklabels=class_names)\n",
    "    plt.xlabel('Predicted Label')\n",
    "    plt.ylabel('True Label')\n",
    "    plt.title('Confusion Matrix')\n",
    "    plt.tight_layout()\n",
    "    plt.show()"
   ]
  },
  {
   "cell_type": "code",
   "execution_count": 26,
   "id": "b4c0bb91-8619-4bfd-8dd9-c48f60d5e481",
   "metadata": {},
   "outputs": [
    {
     "name": "stderr",
     "output_type": "stream",
     "text": [
      "[Evaluating]: 100%|██████████| 164/164 [00:11<00:00, 14.64it/s, Accuracy=0.942]\n"
     ]
    },
    {
     "data": {
      "text/plain": [
       "0.9415945243376023"
      ]
     },
     "execution_count": 26,
     "metadata": {},
     "output_type": "execute_result"
    }
   ],
   "source": [
    "# 가장 검증 성능이 좋은 weight 파일을 모델로 로딩. \n",
    "state_dict = torch.load('/home/hknu/Zypt_Model/landmark_model/checkpoint_epoch_9_val_metric_0.9422.pt', weights_only=True)\n",
    "best_trained_model = Conv1DLandmarkEncoder()\n",
    "best_trained_model.load_state_dict(state_dict)\n",
    "device = torch.device('cuda' if torch.cuda.is_available() else 'cpu')\n",
    "\n",
    "predictor = Predictor(best_trained_model, device)\n",
    "\n",
    "test_dataset = FocusDataset(image_paths=test_df[\"path\"].to_list(), targets=test_df[\"target\"].to_list(),\n",
    "                          landmarks=test_df[\"landmarks\"], transform=tr_transform)\n",
    "test_loader = DataLoader(test_dataset, batch_size=BATCH_SIZE, shuffle=False, num_workers=4, pin_memory=True)\n",
    "\n",
    "predictor.evaluate(test_loader)"
   ]
  },
  {
   "cell_type": "code",
   "execution_count": null,
   "id": "e6a61dba-627f-4f14-be8d-57647e8000fc",
   "metadata": {
    "jupyter": {
     "source_hidden": true
    }
   },
   "outputs": [],
   "source": []
  }
 ],
 "metadata": {
  "kernelspec": {
   "display_name": "kimjh",
   "language": "python",
   "name": "kimjh"
  },
  "language_info": {
   "codemirror_mode": {
    "name": "ipython",
    "version": 3
   },
   "file_extension": ".py",
   "mimetype": "text/x-python",
   "name": "python",
   "nbconvert_exporter": "python",
   "pygments_lexer": "ipython3",
   "version": "3.10.18"
  }
 },
 "nbformat": 4,
 "nbformat_minor": 5
}
